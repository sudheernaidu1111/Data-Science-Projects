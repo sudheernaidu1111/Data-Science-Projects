{
 "cells": [
  {
   "cell_type": "markdown",
   "metadata": {},
   "source": [
    "#                            Big Mart Sales Prediction"
   ]
  },
  {
   "cell_type": "code",
   "execution_count": 2,
   "metadata": {
    "collapsed": true
   },
   "outputs": [],
   "source": [
    "import numpy as np\n",
    "import pandas as pd\n",
    "import matplotlib.pyplot as plt\n",
    "import seaborn as sns\n",
    "%matplotlib inline"
   ]
  },
  {
   "cell_type": "code",
   "execution_count": 3,
   "metadata": {
    "collapsed": true
   },
   "outputs": [],
   "source": [
    "Train = pd.read_csv(\"C:\\\\Users\\\\bhara\\\\Downloads\\\\bigmart sales\\\\train.csv\")\n",
    "Test =pd.read_csv(\"C:\\\\Users\\\\bhara\\\\Downloads\\\\bigmart sales\\\\test.csv\")"
   ]
  },
  {
   "cell_type": "code",
   "execution_count": 26,
   "metadata": {},
   "outputs": [
    {
     "data": {
      "text/html": [
       "<div>\n",
       "<style>\n",
       "    .dataframe thead tr:only-child th {\n",
       "        text-align: right;\n",
       "    }\n",
       "\n",
       "    .dataframe thead th {\n",
       "        text-align: left;\n",
       "    }\n",
       "\n",
       "    .dataframe tbody tr th {\n",
       "        vertical-align: top;\n",
       "    }\n",
       "</style>\n",
       "<table border=\"1\" class=\"dataframe\">\n",
       "  <thead>\n",
       "    <tr style=\"text-align: right;\">\n",
       "      <th></th>\n",
       "      <th>Item_Identifier</th>\n",
       "      <th>Item_Weight</th>\n",
       "      <th>Item_Fat_Content</th>\n",
       "      <th>Item_Visibility</th>\n",
       "      <th>Item_Type</th>\n",
       "      <th>Item_MRP</th>\n",
       "      <th>Outlet_Identifier</th>\n",
       "      <th>Outlet_Establishment_Year</th>\n",
       "      <th>Outlet_Size</th>\n",
       "      <th>Outlet_Location_Type</th>\n",
       "      <th>Outlet_Type</th>\n",
       "      <th>Item_Outlet_Sales</th>\n",
       "    </tr>\n",
       "  </thead>\n",
       "  <tbody>\n",
       "    <tr>\n",
       "      <th>0</th>\n",
       "      <td>FDA15</td>\n",
       "      <td>9.30</td>\n",
       "      <td>Low Fat</td>\n",
       "      <td>0.016047</td>\n",
       "      <td>Dairy</td>\n",
       "      <td>249.8092</td>\n",
       "      <td>OUT049</td>\n",
       "      <td>1999</td>\n",
       "      <td>Medium</td>\n",
       "      <td>Tier 1</td>\n",
       "      <td>Supermarket Type1</td>\n",
       "      <td>3735.1380</td>\n",
       "    </tr>\n",
       "    <tr>\n",
       "      <th>1</th>\n",
       "      <td>DRC01</td>\n",
       "      <td>5.92</td>\n",
       "      <td>Regular</td>\n",
       "      <td>0.019278</td>\n",
       "      <td>Soft Drinks</td>\n",
       "      <td>48.2692</td>\n",
       "      <td>OUT018</td>\n",
       "      <td>2009</td>\n",
       "      <td>Medium</td>\n",
       "      <td>Tier 3</td>\n",
       "      <td>Supermarket Type2</td>\n",
       "      <td>443.4228</td>\n",
       "    </tr>\n",
       "    <tr>\n",
       "      <th>2</th>\n",
       "      <td>FDN15</td>\n",
       "      <td>17.50</td>\n",
       "      <td>Low Fat</td>\n",
       "      <td>0.016760</td>\n",
       "      <td>Meat</td>\n",
       "      <td>141.6180</td>\n",
       "      <td>OUT049</td>\n",
       "      <td>1999</td>\n",
       "      <td>Medium</td>\n",
       "      <td>Tier 1</td>\n",
       "      <td>Supermarket Type1</td>\n",
       "      <td>2097.2700</td>\n",
       "    </tr>\n",
       "    <tr>\n",
       "      <th>3</th>\n",
       "      <td>FDX07</td>\n",
       "      <td>19.20</td>\n",
       "      <td>Regular</td>\n",
       "      <td>0.000000</td>\n",
       "      <td>Fruits and Vegetables</td>\n",
       "      <td>182.0950</td>\n",
       "      <td>OUT010</td>\n",
       "      <td>1998</td>\n",
       "      <td>Medium</td>\n",
       "      <td>Tier 3</td>\n",
       "      <td>Grocery Store</td>\n",
       "      <td>732.3800</td>\n",
       "    </tr>\n",
       "    <tr>\n",
       "      <th>4</th>\n",
       "      <td>NCD19</td>\n",
       "      <td>8.93</td>\n",
       "      <td>Low Fat</td>\n",
       "      <td>0.000000</td>\n",
       "      <td>Household</td>\n",
       "      <td>53.8614</td>\n",
       "      <td>OUT013</td>\n",
       "      <td>1987</td>\n",
       "      <td>High</td>\n",
       "      <td>Tier 3</td>\n",
       "      <td>Supermarket Type1</td>\n",
       "      <td>994.7052</td>\n",
       "    </tr>\n",
       "  </tbody>\n",
       "</table>\n",
       "</div>"
      ],
      "text/plain": [
       "  Item_Identifier  Item_Weight Item_Fat_Content  Item_Visibility  \\\n",
       "0           FDA15         9.30          Low Fat         0.016047   \n",
       "1           DRC01         5.92          Regular         0.019278   \n",
       "2           FDN15        17.50          Low Fat         0.016760   \n",
       "3           FDX07        19.20          Regular         0.000000   \n",
       "4           NCD19         8.93          Low Fat         0.000000   \n",
       "\n",
       "               Item_Type  Item_MRP Outlet_Identifier  \\\n",
       "0                  Dairy  249.8092            OUT049   \n",
       "1            Soft Drinks   48.2692            OUT018   \n",
       "2                   Meat  141.6180            OUT049   \n",
       "3  Fruits and Vegetables  182.0950            OUT010   \n",
       "4              Household   53.8614            OUT013   \n",
       "\n",
       "  Outlet_Establishment_Year Outlet_Size Outlet_Location_Type  \\\n",
       "0                      1999      Medium               Tier 1   \n",
       "1                      2009      Medium               Tier 3   \n",
       "2                      1999      Medium               Tier 1   \n",
       "3                      1998      Medium               Tier 3   \n",
       "4                      1987        High               Tier 3   \n",
       "\n",
       "         Outlet_Type  Item_Outlet_Sales  \n",
       "0  Supermarket Type1          3735.1380  \n",
       "1  Supermarket Type2           443.4228  \n",
       "2  Supermarket Type1          2097.2700  \n",
       "3      Grocery Store           732.3800  \n",
       "4  Supermarket Type1           994.7052  "
      ]
     },
     "execution_count": 26,
     "metadata": {},
     "output_type": "execute_result"
    }
   ],
   "source": [
    "Train.head()"
   ]
  },
  {
   "cell_type": "code",
   "execution_count": 27,
   "metadata": {},
   "outputs": [
    {
     "name": "stdout",
     "output_type": "stream",
     "text": [
      "<class 'pandas.core.frame.DataFrame'>\n",
      "RangeIndex: 8523 entries, 0 to 8522\n",
      "Data columns (total 12 columns):\n",
      "Item_Identifier              8523 non-null object\n",
      "Item_Weight                  8523 non-null float64\n",
      "Item_Fat_Content             8523 non-null object\n",
      "Item_Visibility              8523 non-null float64\n",
      "Item_Type                    8523 non-null object\n",
      "Item_MRP                     8523 non-null float64\n",
      "Outlet_Identifier            8523 non-null object\n",
      "Outlet_Establishment_Year    8523 non-null category\n",
      "Outlet_Size                  8523 non-null object\n",
      "Outlet_Location_Type         8523 non-null object\n",
      "Outlet_Type                  8523 non-null object\n",
      "Item_Outlet_Sales            8523 non-null float64\n",
      "dtypes: category(1), float64(4), object(7)\n",
      "memory usage: 741.2+ KB\n"
     ]
    }
   ],
   "source": [
    "Train.info()"
   ]
  },
  {
   "cell_type": "markdown",
   "metadata": {},
   "source": [
    "# Missing values imputation"
   ]
  },
  {
   "cell_type": "code",
   "execution_count": 28,
   "metadata": {
    "collapsed": true
   },
   "outputs": [],
   "source": [
    "#Missing values imputation"
   ]
  },
  {
   "cell_type": "code",
   "execution_count": 29,
   "metadata": {},
   "outputs": [
    {
     "data": {
      "text/plain": [
       "Item_Outlet_Sales            0\n",
       "Outlet_Type                  0\n",
       "Outlet_Location_Type         0\n",
       "Outlet_Size                  0\n",
       "Outlet_Establishment_Year    0\n",
       "Outlet_Identifier            0\n",
       "Item_MRP                     0\n",
       "Item_Type                    0\n",
       "Item_Visibility              0\n",
       "Item_Fat_Content             0\n",
       "Item_Weight                  0\n",
       "Item_Identifier              0\n",
       "dtype: int64"
      ]
     },
     "execution_count": 29,
     "metadata": {},
     "output_type": "execute_result"
    }
   ],
   "source": [
    "Train.isnull().sum().sort_values(ascending = False)"
   ]
  },
  {
   "cell_type": "code",
   "execution_count": 30,
   "metadata": {},
   "outputs": [
    {
     "data": {
      "text/plain": [
       "<matplotlib.axes._subplots.AxesSubplot at 0x238e7143198>"
      ]
     },
     "execution_count": 30,
     "metadata": {},
     "output_type": "execute_result"
    },
    {
     "data": {
      "image/png": "[encoded data removed]",
      "text/plain": [
       "<matplotlib.figure.Figure at 0x238e7143cf8>"
      ]
     },
     "metadata": {},
     "output_type": "display_data"
    }
   ],
   "source": [
    "Train.Outlet_Size.value_counts()\n",
    "plt.subplots(figsize=(10,4))\n",
    "sns.countplot(Train['Outlet_Size'])"
   ]
  },
  {
   "cell_type": "code",
   "execution_count": 31,
   "metadata": {
    "collapsed": true
   },
   "outputs": [],
   "source": [
    "#So filling the missing values with medium\n",
    "Train[\"Outlet_Size\"] = Train[\"Outlet_Size\"].fillna('Medium')"
   ]
  },
  {
   "cell_type": "code",
   "execution_count": 32,
   "metadata": {
    "collapsed": true
   },
   "outputs": [],
   "source": [
    "#Item weight should be filled with mean since it a continuous value\n",
    "Train['Item_Weight']=Train['Item_Weight'].fillna(Train['Item_Weight'].mean())"
   ]
  },
  {
   "cell_type": "code",
   "execution_count": 33,
   "metadata": {},
   "outputs": [
    {
     "data": {
      "text/plain": [
       "False"
      ]
     },
     "execution_count": 33,
     "metadata": {},
     "output_type": "execute_result"
    }
   ],
   "source": [
    "#make sure that all the missing values are imputed\n",
    "Train.isnull().sum().any()"
   ]
  },
  {
   "cell_type": "code",
   "execution_count": 34,
   "metadata": {},
   "outputs": [
    {
     "data": {
      "text/html": [
       "<div>\n",
       "<style>\n",
       "    .dataframe thead tr:only-child th {\n",
       "        text-align: right;\n",
       "    }\n",
       "\n",
       "    .dataframe thead th {\n",
       "        text-align: left;\n",
       "    }\n",
       "\n",
       "    .dataframe tbody tr th {\n",
       "        vertical-align: top;\n",
       "    }\n",
       "</style>\n",
       "<table border=\"1\" class=\"dataframe\">\n",
       "  <thead>\n",
       "    <tr style=\"text-align: right;\">\n",
       "      <th></th>\n",
       "      <th>Item_Weight</th>\n",
       "      <th>Item_Visibility</th>\n",
       "      <th>Item_MRP</th>\n",
       "      <th>Item_Outlet_Sales</th>\n",
       "    </tr>\n",
       "  </thead>\n",
       "  <tbody>\n",
       "    <tr>\n",
       "      <th>0</th>\n",
       "      <td>9.30</td>\n",
       "      <td>0.016047</td>\n",
       "      <td>249.8092</td>\n",
       "      <td>3735.1380</td>\n",
       "    </tr>\n",
       "    <tr>\n",
       "      <th>1</th>\n",
       "      <td>5.92</td>\n",
       "      <td>0.019278</td>\n",
       "      <td>48.2692</td>\n",
       "      <td>443.4228</td>\n",
       "    </tr>\n",
       "    <tr>\n",
       "      <th>2</th>\n",
       "      <td>17.50</td>\n",
       "      <td>0.016760</td>\n",
       "      <td>141.6180</td>\n",
       "      <td>2097.2700</td>\n",
       "    </tr>\n",
       "    <tr>\n",
       "      <th>3</th>\n",
       "      <td>19.20</td>\n",
       "      <td>0.000000</td>\n",
       "      <td>182.0950</td>\n",
       "      <td>732.3800</td>\n",
       "    </tr>\n",
       "    <tr>\n",
       "      <th>4</th>\n",
       "      <td>8.93</td>\n",
       "      <td>0.000000</td>\n",
       "      <td>53.8614</td>\n",
       "      <td>994.7052</td>\n",
       "    </tr>\n",
       "  </tbody>\n",
       "</table>\n",
       "</div>"
      ],
      "text/plain": [
       "   Item_Weight  Item_Visibility  Item_MRP  Item_Outlet_Sales\n",
       "0         9.30         0.016047  249.8092          3735.1380\n",
       "1         5.92         0.019278   48.2692           443.4228\n",
       "2        17.50         0.016760  141.6180          2097.2700\n",
       "3        19.20         0.000000  182.0950           732.3800\n",
       "4         8.93         0.000000   53.8614           994.7052"
      ]
     },
     "execution_count": 34,
     "metadata": {},
     "output_type": "execute_result"
    }
   ],
   "source": [
    "num_col = Train._get_numeric_data()\n",
    "num_col.head()"
   ]
  },
  {
   "cell_type": "code",
   "execution_count": null,
   "metadata": {
    "collapsed": true
   },
   "outputs": [],
   "source": []
  },
  {
   "cell_type": "code",
   "execution_count": 35,
   "metadata": {
    "collapsed": true
   },
   "outputs": [],
   "source": [
    "#so here 'Outlet_Establishment_Year' is basically not an integer so convert it back to categorical\n",
    "Train.Outlet_Establishment_Year = pd.Categorical(Train.Outlet_Establishment_Year)"
   ]
  },
  {
   "cell_type": "code",
   "execution_count": 36,
   "metadata": {},
   "outputs": [
    {
     "data": {
      "text/plain": [
       "Index(['Item_Weight', 'Item_Visibility', 'Item_MRP', 'Item_Outlet_Sales'], dtype='object')"
      ]
     },
     "execution_count": 36,
     "metadata": {},
     "output_type": "execute_result"
    }
   ],
   "source": [
    "num_cols=Train._get_numeric_data()\n",
    "num_cols.columns"
   ]
  },
  {
   "cell_type": "markdown",
   "metadata": {},
   "source": [
    "# Out liers detection and removimg them"
   ]
  },
  {
   "cell_type": "code",
   "execution_count": 37,
   "metadata": {},
   "outputs": [
    {
     "data": {
      "text/html": [
       "<div>\n",
       "<style>\n",
       "    .dataframe thead tr:only-child th {\n",
       "        text-align: right;\n",
       "    }\n",
       "\n",
       "    .dataframe thead th {\n",
       "        text-align: left;\n",
       "    }\n",
       "\n",
       "    .dataframe tbody tr th {\n",
       "        vertical-align: top;\n",
       "    }\n",
       "</style>\n",
       "<table border=\"1\" class=\"dataframe\">\n",
       "  <thead>\n",
       "    <tr style=\"text-align: right;\">\n",
       "      <th></th>\n",
       "      <th>N</th>\n",
       "      <th>NMISS</th>\n",
       "      <th>SUM</th>\n",
       "      <th>MEAN</th>\n",
       "      <th>MEDIAN</th>\n",
       "      <th>STD</th>\n",
       "      <th>VAR</th>\n",
       "      <th>MIN</th>\n",
       "      <th>P1</th>\n",
       "      <th>P5</th>\n",
       "      <th>P10</th>\n",
       "      <th>P25</th>\n",
       "      <th>P50</th>\n",
       "      <th>P75</th>\n",
       "      <th>P90</th>\n",
       "      <th>P95</th>\n",
       "      <th>P99</th>\n",
       "      <th>MAX</th>\n",
       "    </tr>\n",
       "  </thead>\n",
       "  <tbody>\n",
       "    <tr>\n",
       "      <th>Item_Weight</th>\n",
       "      <td>8523.0</td>\n",
       "      <td>0.0</td>\n",
       "      <td>1.095857e+05</td>\n",
       "      <td>12.857645</td>\n",
       "      <td>12.857645</td>\n",
       "      <td>4.226124</td>\n",
       "      <td>1.786012e+01</td>\n",
       "      <td>4.555</td>\n",
       "      <td>5.175000</td>\n",
       "      <td>6.1300</td>\n",
       "      <td>7.004000</td>\n",
       "      <td>9.310000</td>\n",
       "      <td>12.857645</td>\n",
       "      <td>16.000000</td>\n",
       "      <td>19.100000</td>\n",
       "      <td>20.19000</td>\n",
       "      <td>20.850000</td>\n",
       "      <td>21.350000</td>\n",
       "    </tr>\n",
       "    <tr>\n",
       "      <th>Item_Visibility</th>\n",
       "      <td>8523.0</td>\n",
       "      <td>0.0</td>\n",
       "      <td>5.636433e+02</td>\n",
       "      <td>0.066132</td>\n",
       "      <td>0.053931</td>\n",
       "      <td>0.051598</td>\n",
       "      <td>2.662335e-03</td>\n",
       "      <td>0.000</td>\n",
       "      <td>0.000000</td>\n",
       "      <td>0.0000</td>\n",
       "      <td>0.012042</td>\n",
       "      <td>0.026989</td>\n",
       "      <td>0.053931</td>\n",
       "      <td>0.094585</td>\n",
       "      <td>0.139514</td>\n",
       "      <td>0.16378</td>\n",
       "      <td>0.226249</td>\n",
       "      <td>0.328391</td>\n",
       "    </tr>\n",
       "    <tr>\n",
       "      <th>Item_MRP</th>\n",
       "      <td>8523.0</td>\n",
       "      <td>0.0</td>\n",
       "      <td>1.201681e+06</td>\n",
       "      <td>140.992782</td>\n",
       "      <td>143.012800</td>\n",
       "      <td>62.275067</td>\n",
       "      <td>3.878184e+03</td>\n",
       "      <td>31.290</td>\n",
       "      <td>35.062752</td>\n",
       "      <td>42.5167</td>\n",
       "      <td>52.795600</td>\n",
       "      <td>93.826500</td>\n",
       "      <td>143.012800</td>\n",
       "      <td>185.643700</td>\n",
       "      <td>231.200480</td>\n",
       "      <td>250.76924</td>\n",
       "      <td>263.022600</td>\n",
       "      <td>266.888400</td>\n",
       "    </tr>\n",
       "    <tr>\n",
       "      <th>Item_Outlet_Sales</th>\n",
       "      <td>8523.0</td>\n",
       "      <td>0.0</td>\n",
       "      <td>1.809153e+07</td>\n",
       "      <td>2122.671407</td>\n",
       "      <td>1794.331000</td>\n",
       "      <td>1544.093277</td>\n",
       "      <td>2.384224e+06</td>\n",
       "      <td>33.290</td>\n",
       "      <td>83.890800</td>\n",
       "      <td>188.4214</td>\n",
       "      <td>343.552800</td>\n",
       "      <td>834.247400</td>\n",
       "      <td>1794.331000</td>\n",
       "      <td>3101.296400</td>\n",
       "      <td>4570.051200</td>\n",
       "      <td>5522.81100</td>\n",
       "      <td>5522.811000</td>\n",
       "      <td>5522.811000</td>\n",
       "    </tr>\n",
       "  </tbody>\n",
       "</table>\n",
       "</div>"
      ],
      "text/plain": [
       "                        N  NMISS           SUM         MEAN       MEDIAN  \\\n",
       "Item_Weight        8523.0    0.0  1.095857e+05    12.857645    12.857645   \n",
       "Item_Visibility    8523.0    0.0  5.636433e+02     0.066132     0.053931   \n",
       "Item_MRP           8523.0    0.0  1.201681e+06   140.992782   143.012800   \n",
       "Item_Outlet_Sales  8523.0    0.0  1.809153e+07  2122.671407  1794.331000   \n",
       "\n",
       "                           STD           VAR     MIN         P1        P5  \\\n",
       "Item_Weight           4.226124  1.786012e+01   4.555   5.175000    6.1300   \n",
       "Item_Visibility       0.051598  2.662335e-03   0.000   0.000000    0.0000   \n",
       "Item_MRP             62.275067  3.878184e+03  31.290  35.062752   42.5167   \n",
       "Item_Outlet_Sales  1544.093277  2.384224e+06  33.290  83.890800  188.4214   \n",
       "\n",
       "                          P10         P25          P50          P75  \\\n",
       "Item_Weight          7.004000    9.310000    12.857645    16.000000   \n",
       "Item_Visibility      0.012042    0.026989     0.053931     0.094585   \n",
       "Item_MRP            52.795600   93.826500   143.012800   185.643700   \n",
       "Item_Outlet_Sales  343.552800  834.247400  1794.331000  3101.296400   \n",
       "\n",
       "                           P90         P95          P99          MAX  \n",
       "Item_Weight          19.100000    20.19000    20.850000    21.350000  \n",
       "Item_Visibility       0.139514     0.16378     0.226249     0.328391  \n",
       "Item_MRP            231.200480   250.76924   263.022600   266.888400  \n",
       "Item_Outlet_Sales  4570.051200  5522.81100  5522.811000  5522.811000  "
      ]
     },
     "execution_count": 37,
     "metadata": {},
     "output_type": "execute_result"
    }
   ],
   "source": [
    "\n",
    "# Writing a function to find percentiles, min and max values of the attributes\n",
    "def var_summary(x):\n",
    "    return pd.Series([x.count(), x.isnull().sum(), x.sum(), x.mean(), x.median(),  x.std(), x.var(), x.min(), x.quantile(0.01), x.quantile(0.05),x.quantile(0.10),x.quantile(0.25),x.quantile(0.50),x.quantile(0.75), x.quantile(0.90),x.quantile(0.95), x.quantile(0.99),x.max()], \n",
    "                  index=['N', 'NMISS', 'SUM', 'MEAN','MEDIAN', 'STD', 'VAR', 'MIN', 'P1' , 'P5' ,'P10' ,'P25' ,'P50' ,'P75' ,'P90' ,'P95' ,'P99' ,'MAX'])\n",
    "\n",
    "num_cols.apply(lambda x: var_summary(x)).T"
   ]
  },
  {
   "cell_type": "code",
   "execution_count": 38,
   "metadata": {},
   "outputs": [
    {
     "data": {
      "text/plain": [
       "<matplotlib.axes._subplots.AxesSubplot at 0x238e77c45f8>"
      ]
     },
     "execution_count": 38,
     "metadata": {},
     "output_type": "execute_result"
    },
    {
     "data": {
      "image/png": "[encoded data removed]",
      "text/plain": [
       "<matplotlib.figure.Figure at 0x238e77c4e48>"
      ]
     },
     "metadata": {},
     "output_type": "display_data"
    }
   ],
   "source": [
    "sns.boxplot(num_cols['Item_Outlet_Sales'])"
   ]
  },
  {
   "cell_type": "code",
   "execution_count": 39,
   "metadata": {
    "collapsed": true
   },
   "outputs": [],
   "source": [
    "#so There are outliers lets remove them\n",
    "num_cols['Item_Outlet_Sales']= num_cols['Item_Outlet_Sales'].clip_upper(num_cols['Item_Outlet_Sales'].quantile(0.95))"
   ]
  },
  {
   "cell_type": "code",
   "execution_count": 40,
   "metadata": {},
   "outputs": [
    {
     "data": {
      "text/plain": [
       "<matplotlib.axes._subplots.AxesSubplot at 0x238e71b6710>"
      ]
     },
     "execution_count": 40,
     "metadata": {},
     "output_type": "execute_result"
    },
    {
     "data": {
      "image/png": "[encoded data removed]",
      "text/plain": [
       "<matplotlib.figure.Figure at 0x238e7671978>"
      ]
     },
     "metadata": {},
     "output_type": "display_data"
    }
   ],
   "source": [
    "sns.boxplot(num_cols['Item_Visibility'])"
   ]
  },
  {
   "cell_type": "markdown",
   "metadata": {},
   "source": [
    "# Finding correlaton with respect to \"Item_Outlet_Sales\""
   ]
  },
  {
   "cell_type": "code",
   "execution_count": 41,
   "metadata": {},
   "outputs": [
    {
     "data": {
      "text/plain": [
       "Item_Outlet_Sales    1.000000\n",
       "Item_MRP             0.576802\n",
       "Item_Weight          0.012773\n",
       "Item_Visibility     -0.134678\n",
       "Name: Item_Outlet_Sales, dtype: float64"
      ]
     },
     "execution_count": 41,
     "metadata": {},
     "output_type": "execute_result"
    }
   ],
   "source": [
    "#finding correlation for numaric columns with respect to Item_Outlet_Sales\n",
    "corr = num_col.corr()[\"Item_Outlet_Sales\"]\n",
    "corr[np.argsort(corr,axis=1)].sort_values(ascending = False)"
   ]
  },
  {
   "cell_type": "code",
   "execution_count": 42,
   "metadata": {},
   "outputs": [
    {
     "data": {
      "image/png": "[encoded data removed]",
      "text/plain": [
       "<matplotlib.figure.Figure at 0x238e6a732b0>"
      ]
     },
     "metadata": {},
     "output_type": "display_data"
    }
   ],
   "source": [
    "#using heat ma\n",
    "cm =num_col.corr()\n",
    "sns.set(font_scale=1.35)\n",
    "f, ax = plt.subplots(figsize=(10,10))\n",
    "hm=sns.heatmap(cm, annot = True, vmax =.8)"
   ]
  },
  {
   "cell_type": "code",
   "execution_count": 43,
   "metadata": {
    "collapsed": true
   },
   "outputs": [],
   "source": [
    "#Damn thre is one attribute which is negatively correlated so we need to kick that out.\n",
    "num_cols =num_col.drop([\"Item_Visibility\"], axis =1)\n"
   ]
  },
  {
   "cell_type": "markdown",
   "metadata": {},
   "source": [
    "# Checking For multicorrelation"
   ]
  },
  {
   "cell_type": "code",
   "execution_count": 44,
   "metadata": {
    "collapsed": true
   },
   "outputs": [],
   "source": [
    "#lets check multi correlation using VIF(Varience Inflation Factor)\n",
    "import statsmodels.formula.api as smf\n",
    "from statsmodels.stats.outliers_influence import variance_inflation_factor as vif"
   ]
  },
  {
   "cell_type": "code",
   "execution_count": 45,
   "metadata": {},
   "outputs": [
    {
     "data": {
      "text/html": [
       "<table class=\"simpletable\">\n",
       "<caption>OLS Regression Results</caption>\n",
       "<tr>\n",
       "  <th>Dep. Variable:</th>    <td>Item_Outlet_Sales</td> <th>  R-squared:         </th> <td>   0.333</td> \n",
       "</tr>\n",
       "<tr>\n",
       "  <th>Model:</th>                   <td>OLS</td>        <th>  Adj. R-squared:    </th> <td>   0.333</td> \n",
       "</tr>\n",
       "<tr>\n",
       "  <th>Method:</th>             <td>Least Squares</td>   <th>  F-statistic:       </th> <td>   2124.</td> \n",
       "</tr>\n",
       "<tr>\n",
       "  <th>Date:</th>             <td>Fri, 15 Dec 2017</td>  <th>  Prob (F-statistic):</th>  <td>  0.00</td>  \n",
       "</tr>\n",
       "<tr>\n",
       "  <th>Time:</th>                 <td>10:40:37</td>      <th>  Log-Likelihood:    </th> <td> -72947.</td> \n",
       "</tr>\n",
       "<tr>\n",
       "  <th>No. Observations:</th>      <td>  8523</td>       <th>  AIC:               </th> <td>1.459e+05</td>\n",
       "</tr>\n",
       "<tr>\n",
       "  <th>Df Residuals:</th>          <td>  8520</td>       <th>  BIC:               </th> <td>1.459e+05</td>\n",
       "</tr>\n",
       "<tr>\n",
       "  <th>Df Model:</th>              <td>     2</td>       <th>                     </th>     <td> </td>    \n",
       "</tr>\n",
       "<tr>\n",
       "  <th>Covariance Type:</th>      <td>nonrobust</td>     <th>                     </th>     <td> </td>    \n",
       "</tr>\n",
       "</table>\n",
       "<table class=\"simpletable\">\n",
       "<tr>\n",
       "       <td></td>          <th>coef</th>     <th>std err</th>      <th>t</th>      <th>P>|t|</th>  <th>[0.025</th>    <th>0.975]</th>  \n",
       "</tr>\n",
       "<tr>\n",
       "  <th>Intercept</th>   <td>  113.1931</td> <td>   53.012</td> <td>    2.135</td> <td> 0.033</td> <td>    9.276</td> <td>  217.110</td>\n",
       "</tr>\n",
       "<tr>\n",
       "  <th>Item_MRP</th>    <td>   14.3026</td> <td>    0.219</td> <td>   65.160</td> <td> 0.000</td> <td>   13.872</td> <td>   14.733</td>\n",
       "</tr>\n",
       "<tr>\n",
       "  <th>Item_Weight</th> <td>   -0.5508</td> <td>    3.234</td> <td>   -0.170</td> <td> 0.865</td> <td>   -6.891</td> <td>    5.790</td>\n",
       "</tr>\n",
       "</table>\n",
       "<table class=\"simpletable\">\n",
       "<tr>\n",
       "  <th>Omnibus:</th>       <td> 1.525</td> <th>  Durbin-Watson:     </th> <td>   1.984</td>\n",
       "</tr>\n",
       "<tr>\n",
       "  <th>Prob(Omnibus):</th> <td> 0.467</td> <th>  Jarque-Bera (JB):  </th> <td>   1.527</td>\n",
       "</tr>\n",
       "<tr>\n",
       "  <th>Skew:</th>          <td> 0.033</td> <th>  Prob(JB):          </th> <td>   0.466</td>\n",
       "</tr>\n",
       "<tr>\n",
       "  <th>Kurtosis:</th>      <td> 2.996</td> <th>  Cond. No.          </th> <td>    600.</td>\n",
       "</tr>\n",
       "</table>"
      ],
      "text/plain": [
       "<class 'statsmodels.iolib.summary.Summary'>\n",
       "\"\"\"\n",
       "                            OLS Regression Results                            \n",
       "==============================================================================\n",
       "Dep. Variable:      Item_Outlet_Sales   R-squared:                       0.333\n",
       "Model:                            OLS   Adj. R-squared:                  0.333\n",
       "Method:                 Least Squares   F-statistic:                     2124.\n",
       "Date:                Fri, 15 Dec 2017   Prob (F-statistic):               0.00\n",
       "Time:                        10:40:37   Log-Likelihood:                -72947.\n",
       "No. Observations:                8523   AIC:                         1.459e+05\n",
       "Df Residuals:                    8520   BIC:                         1.459e+05\n",
       "Df Model:                           2                                         \n",
       "Covariance Type:            nonrobust                                         \n",
       "===============================================================================\n",
       "                  coef    std err          t      P>|t|      [0.025      0.975]\n",
       "-------------------------------------------------------------------------------\n",
       "Intercept     113.1931     53.012      2.135      0.033       9.276     217.110\n",
       "Item_MRP       14.3026      0.219     65.160      0.000      13.872      14.733\n",
       "Item_Weight    -0.5508      3.234     -0.170      0.865      -6.891       5.790\n",
       "==============================================================================\n",
       "Omnibus:                        1.525   Durbin-Watson:                   1.984\n",
       "Prob(Omnibus):                  0.467   Jarque-Bera (JB):                1.527\n",
       "Skew:                           0.033   Prob(JB):                        0.466\n",
       "Kurtosis:                       2.996   Cond. No.                         600.\n",
       "==============================================================================\n",
       "\n",
       "Warnings:\n",
       "[1] Standard Errors assume that the covariance matrix of the errors is correctly specified.\n",
       "\"\"\""
      ]
     },
     "execution_count": 45,
     "metadata": {},
     "output_type": "execute_result"
    }
   ],
   "source": [
    "# Performing OLS to know the significant attributes\n",
    "lm = smf.ols('Item_Outlet_Sales ~ Item_MRP+Item_Weight', num_cols).fit()\n",
    "lm.summary()"
   ]
  },
  {
   "cell_type": "code",
   "execution_count": 46,
   "metadata": {
    "collapsed": true
   },
   "outputs": [],
   "source": [
    "num_cols['intercept'] = lm.params[0]"
   ]
  },
  {
   "cell_type": "code",
   "execution_count": 47,
   "metadata": {},
   "outputs": [
    {
     "name": "stdout",
     "output_type": "stream",
     "text": [
      "1.00061324038\n",
      "1.00061324038\n",
      "15.0513780962\n"
     ]
    }
   ],
   "source": [
    "for i in range(3):\n",
    "    print (vif(num_cols[['Item_MRP','Item_Weight','intercept']].as_matrix(), i))"
   ]
  },
  {
   "cell_type": "code",
   "execution_count": 48,
   "metadata": {},
   "outputs": [
    {
     "data": {
      "text/plain": [
       "array([ 1.00061324,  1.00061324,  1.        ])"
      ]
     },
     "execution_count": 48,
     "metadata": {},
     "output_type": "execute_result"
    }
   ],
   "source": [
    "np.diag(np.linalg.inv(num_cols[['Item_MRP','Item_Weight','intercept']].corr().as_matrix()),0)"
   ]
  },
  {
   "cell_type": "code",
   "execution_count": 49,
   "metadata": {
    "collapsed": true
   },
   "outputs": [],
   "source": [
    "Final_Num_Cols = num_cols.drop([\"Item_Weight\"],axis =1)"
   ]
  },
  {
   "cell_type": "code",
   "execution_count": 50,
   "metadata": {},
   "outputs": [
    {
     "data": {
      "text/plain": [
       "Index(['Item_MRP', 'Item_Outlet_Sales', 'intercept'], dtype='object')"
      ]
     },
     "execution_count": 50,
     "metadata": {},
     "output_type": "execute_result"
    }
   ],
   "source": [
    "Final_Num_Cols.columns"
   ]
  },
  {
   "cell_type": "markdown",
   "metadata": {},
   "source": [
    "# Dealing with Categorical attributes"
   ]
  },
  {
   "cell_type": "code",
   "execution_count": 51,
   "metadata": {},
   "outputs": [
    {
     "data": {
      "text/plain": [
       "Index(['Item_Identifier', 'Item_Fat_Content', 'Item_Type', 'Outlet_Identifier',\n",
       "       'Outlet_Establishment_Year', 'Outlet_Size', 'Outlet_Location_Type',\n",
       "       'Outlet_Type'],\n",
       "      dtype='object')"
      ]
     },
     "execution_count": 51,
     "metadata": {},
     "output_type": "execute_result"
    }
   ],
   "source": [
    "cat_col = Train.drop(['Item_Weight', 'Item_Visibility', 'Item_MRP', 'Item_Outlet_Sales'],axis = 1)\n",
    "cat_col.columns"
   ]
  },
  {
   "cell_type": "code",
   "execution_count": 52,
   "metadata": {
    "collapsed": true
   },
   "outputs": [],
   "source": [
    "#Item_Identifier is just like seriel number so just ignore it, i mean drop it.\n",
    "cat_cols =cat_col.drop(['Item_Identifier'], axis =1)"
   ]
  },
  {
   "cell_type": "markdown",
   "metadata": {},
   "source": [
    "# Visualization for categorical attrebutes to know their value counts"
   ]
  },
  {
   "cell_type": "code",
   "execution_count": 53,
   "metadata": {},
   "outputs": [
    {
     "data": {
      "text/plain": [
       "<matplotlib.axes._subplots.AxesSubplot at 0x238e76be710>"
      ]
     },
     "execution_count": 53,
     "metadata": {},
     "output_type": "execute_result"
    },
    {
     "data": {
      "image/png": "[encoded data removed]",
      "text/plain": [
       "<matplotlib.figure.Figure at 0x238e71df588>"
      ]
     },
     "metadata": {},
     "output_type": "display_data"
    }
   ],
   "source": [
    "plt.subplots(figsize=(10,4))\n",
    "sns.countplot(cat_cols['Item_Fat_Content'])"
   ]
  },
  {
   "cell_type": "code",
   "execution_count": 54,
   "metadata": {},
   "outputs": [
    {
     "data": {
      "text/plain": [
       "<matplotlib.axes._subplots.AxesSubplot at 0x238e76cba90>"
      ]
     },
     "execution_count": 54,
     "metadata": {},
     "output_type": "execute_result"
    },
    {
     "data": {
      "image/png": "[encoded data removed]",
      "text/plain": [
       "<matplotlib.figure.Figure at 0x238e7b4f978>"
      ]
     },
     "metadata": {},
     "output_type": "display_data"
    }
   ],
   "source": [
    "plt.subplots(figsize=(23,4))\n",
    "sns.countplot(cat_cols.Item_Type)"
   ]
  },
  {
   "cell_type": "code",
   "execution_count": 55,
   "metadata": {},
   "outputs": [
    {
     "data": {
      "text/plain": [
       "<matplotlib.axes._subplots.AxesSubplot at 0x238e7bdeb38>"
      ]
     },
     "execution_count": 55,
     "metadata": {},
     "output_type": "execute_result"
    },
    {
     "data": {
      "image/png": "[encoded data removed]",
      "text/plain": [
       "<matplotlib.figure.Figure at 0x238e7bb10b8>"
      ]
     },
     "metadata": {},
     "output_type": "display_data"
    }
   ],
   "source": [
    "plt.subplots(figsize=(10,4))\n",
    "sns.countplot(cat_cols.Outlet_Identifier)"
   ]
  },
  {
   "cell_type": "code",
   "execution_count": 56,
   "metadata": {},
   "outputs": [
    {
     "data": {
      "text/plain": [
       "<matplotlib.axes._subplots.AxesSubplot at 0x238e7bba668>"
      ]
     },
     "execution_count": 56,
     "metadata": {},
     "output_type": "execute_result"
    },
    {
     "data": {
      "image/png": "[encoded data removed]",
      "text/plain": [
       "<matplotlib.figure.Figure at 0x238e6ef96d8>"
      ]
     },
     "metadata": {},
     "output_type": "display_data"
    }
   ],
   "source": [
    "plt.subplots(figsize=(10,4))\n",
    "sns.countplot(cat_cols.Outlet_Size)"
   ]
  },
  {
   "cell_type": "code",
   "execution_count": 57,
   "metadata": {},
   "outputs": [
    {
     "data": {
      "text/plain": [
       "<matplotlib.axes._subplots.AxesSubplot at 0x238e6ec7da0>"
      ]
     },
     "execution_count": 57,
     "metadata": {},
     "output_type": "execute_result"
    },
    {
     "data": {
      "image/png": "[encoded data removed]",
      "text/plain": [
       "<matplotlib.figure.Figure at 0x238e6f1ae10>"
      ]
     },
     "metadata": {},
     "output_type": "display_data"
    }
   ],
   "source": [
    "plt.subplots(figsize=(10,4))\n",
    "sns.countplot(Train.Outlet_Establishment_Year)"
   ]
  },
  {
   "cell_type": "code",
   "execution_count": 58,
   "metadata": {},
   "outputs": [
    {
     "data": {
      "text/plain": [
       "<matplotlib.axes._subplots.AxesSubplot at 0x238e7098320>"
      ]
     },
     "execution_count": 58,
     "metadata": {},
     "output_type": "execute_result"
    },
    {
     "data": {
      "image/png": "[encoded data removed]",
      "text/plain": [
       "<matplotlib.figure.Figure at 0x238e731dbe0>"
      ]
     },
     "metadata": {},
     "output_type": "display_data"
    }
   ],
   "source": [
    "plt.subplots(figsize=(10,4))\n",
    "sns.countplot(cat_cols.Outlet_Type)"
   ]
  },
  {
   "cell_type": "code",
   "execution_count": 59,
   "metadata": {},
   "outputs": [
    {
     "data": {
      "text/plain": [
       "<matplotlib.axes._subplots.AxesSubplot at 0x238e734c6d8>"
      ]
     },
     "execution_count": 59,
     "metadata": {},
     "output_type": "execute_result"
    },
    {
     "data": {
      "image/png": "[encoded data removed]",
      "text/plain": [
       "<matplotlib.figure.Figure at 0x238e7378630>"
      ]
     },
     "metadata": {},
     "output_type": "display_data"
    }
   ],
   "source": [
    "plt.subplots(figsize=(10,4))\n",
    "sns.countplot(cat_cols.Outlet_Location_Type)"
   ]
  },
  {
   "cell_type": "markdown",
   "metadata": {},
   "source": [
    "# Using visualization check how categorical columns varies with target variable"
   ]
  },
  {
   "cell_type": "code",
   "execution_count": 60,
   "metadata": {},
   "outputs": [
    {
     "data": {
      "text/plain": [
       "<matplotlib.axes._subplots.AxesSubplot at 0x238e73cff28>"
      ]
     },
     "execution_count": 60,
     "metadata": {},
     "output_type": "execute_result"
    },
    {
     "data": {
      "image/png": "[encoded data removed]",
      "text/plain": [
       "<matplotlib.figure.Figure at 0x238e739b3c8>"
      ]
     },
     "metadata": {},
     "output_type": "display_data"
    }
   ],
   "source": [
    "plt.subplots(figsize = (10,4))\n",
    "sns.barplot(x = cat_cols['Item_Fat_Content'], y= num_cols['Item_Outlet_Sales'])"
   ]
  },
  {
   "cell_type": "code",
   "execution_count": 61,
   "metadata": {},
   "outputs": [
    {
     "data": {
      "text/plain": [
       "<matplotlib.axes._subplots.AxesSubplot at 0x238e73d3278>"
      ]
     },
     "execution_count": 61,
     "metadata": {},
     "output_type": "execute_result"
    },
    {
     "data": {
      "image/png": "[encoded data removed]",
      "text/plain": [
       "<matplotlib.figure.Figure at 0x238e73cbeb8>"
      ]
     },
     "metadata": {},
     "output_type": "display_data"
    }
   ],
   "source": [
    "plt.subplots(figsize = (25,4))\n",
    "sns.barplot(x = cat_cols['Item_Type'], y= num_cols['Item_Outlet_Sales'])"
   ]
  },
  {
   "cell_type": "code",
   "execution_count": 62,
   "metadata": {},
   "outputs": [
    {
     "data": {
      "text/plain": [
       "<matplotlib.axes._subplots.AxesSubplot at 0x238e74cb668>"
      ]
     },
     "execution_count": 62,
     "metadata": {},
     "output_type": "execute_result"
    },
    {
     "data": {
      "image/png": "[encoded data removed]",
      "text/plain": [
       "<matplotlib.figure.Figure at 0x238e74e40f0>"
      ]
     },
     "metadata": {},
     "output_type": "display_data"
    }
   ],
   "source": [
    "plt.subplots(figsize = (15,4))\n",
    "sns.barplot(y = cat_cols['Outlet_Identifier'], x= num_cols['Item_Outlet_Sales'])"
   ]
  },
  {
   "cell_type": "code",
   "execution_count": 63,
   "metadata": {},
   "outputs": [
    {
     "data": {
      "text/plain": [
       "<matplotlib.axes._subplots.AxesSubplot at 0x238e7c9d5c0>"
      ]
     },
     "execution_count": 63,
     "metadata": {},
     "output_type": "execute_result"
    },
    {
     "data": {
      "image/png": "[encoded data removed]",
      "text/plain": [
       "<matplotlib.figure.Figure at 0x238e7cf7860>"
      ]
     },
     "metadata": {},
     "output_type": "display_data"
    }
   ],
   "source": [
    "\n",
    "plt.subplots(figsize = (15,4))\n",
    "sns.barplot(y = cat_cols['Outlet_Establishment_Year'], x= num_cols['Item_Outlet_Sales'])"
   ]
  },
  {
   "cell_type": "code",
   "execution_count": 64,
   "metadata": {},
   "outputs": [
    {
     "data": {
      "text/plain": [
       "<matplotlib.axes._subplots.AxesSubplot at 0x238e7d24550>"
      ]
     },
     "execution_count": 64,
     "metadata": {},
     "output_type": "execute_result"
    },
    {
     "data": {
      "image/png": "[encoded data removed]",
      "text/plain": [
       "<matplotlib.figure.Figure at 0x238e91d60b8>"
      ]
     },
     "metadata": {},
     "output_type": "display_data"
    }
   ],
   "source": [
    "plt.subplots(figsize = (15,4))\n",
    "sns.barplot(y = cat_cols['Outlet_Size'], x= num_cols['Item_Outlet_Sales'])"
   ]
  },
  {
   "cell_type": "code",
   "execution_count": 65,
   "metadata": {},
   "outputs": [
    {
     "data": {
      "text/plain": [
       "<matplotlib.axes._subplots.AxesSubplot at 0x238e9201e48>"
      ]
     },
     "execution_count": 65,
     "metadata": {},
     "output_type": "execute_result"
    },
    {
     "data": {
      "image/png": "[encoded data removed]",
      "text/plain": [
       "<matplotlib.figure.Figure at 0x238e9239be0>"
      ]
     },
     "metadata": {},
     "output_type": "display_data"
    }
   ],
   "source": [
    "plt.subplots(figsize = (15,4))\n",
    "sns.barplot(y = cat_cols['Outlet_Location_Type'], x= num_cols['Item_Outlet_Sales'])"
   ]
  },
  {
   "cell_type": "code",
   "execution_count": 66,
   "metadata": {},
   "outputs": [
    {
     "data": {
      "text/plain": [
       "<matplotlib.axes._subplots.AxesSubplot at 0x238e7cf7c50>"
      ]
     },
     "execution_count": 66,
     "metadata": {},
     "output_type": "execute_result"
    },
    {
     "data": {
      "image/png": "[encoded data removed]",
      "text/plain": [
       "<matplotlib.figure.Figure at 0x238e9394080>"
      ]
     },
     "metadata": {},
     "output_type": "display_data"
    }
   ],
   "source": [
    "plt.subplots(figsize = (15,4))\n",
    "sns.barplot(y = cat_cols['Outlet_Type'], x= num_cols['Item_Outlet_Sales'])"
   ]
  },
  {
   "cell_type": "markdown",
   "metadata": {},
   "source": [
    "# To find the significant attributes we do ANOVA or F-Test"
   ]
  },
  {
   "cell_type": "code",
   "execution_count": 67,
   "metadata": {},
   "outputs": [
    {
     "data": {
      "text/plain": [
       "Index(['Item_Fat_Content', 'Item_Type', 'Outlet_Identifier',\n",
       "       'Outlet_Establishment_Year', 'Outlet_Size', 'Outlet_Location_Type',\n",
       "       'Outlet_Type'],\n",
       "      dtype='object')"
      ]
     },
     "execution_count": 67,
     "metadata": {},
     "output_type": "execute_result"
    }
   ],
   "source": [
    "cat_cols.columns"
   ]
  },
  {
   "cell_type": "code",
   "execution_count": 68,
   "metadata": {},
   "outputs": [
    {
     "data": {
      "text/plain": [
       "Index(['Item_Fat_Content', 'Item_Type', 'Outlet_Identifier',\n",
       "       'Outlet_Establishment_Year', 'Outlet_Size', 'Outlet_Location_Type',\n",
       "       'Outlet_Type', 'Item_Outlet_Sales'],\n",
       "      dtype='object')"
      ]
     },
     "execution_count": 68,
     "metadata": {},
     "output_type": "execute_result"
    }
   ],
   "source": [
    "# we should add Item_Outlet_Sales as categorical attributes does not have target.\n",
    "categorical_col =pd.concat([cat_cols,Final_Num_Cols.Item_Outlet_Sales],axis=1)\n",
    "categorical_col.columns"
   ]
  },
  {
   "cell_type": "code",
   "execution_count": 69,
   "metadata": {},
   "outputs": [
    {
     "name": "stderr",
     "output_type": "stream",
     "text": [
      "C:\\ProgramData\\Anaconda3\\lib\\site-packages\\statsmodels\\compat\\pandas.py:56: FutureWarning: The pandas.core.datetools module is deprecated and will be removed in a future version. Please use the pandas.tseries module instead.\n",
      "  from pandas.core import datetools\n"
     ]
    }
   ],
   "source": [
    "##Now we need to do stats model.api:\n",
    "\n",
    "import statsmodels.api as sm\n",
    "import statsmodels.formula.api as smf"
   ]
  },
  {
   "cell_type": "code",
   "execution_count": 70,
   "metadata": {},
   "outputs": [
    {
     "data": {
      "text/html": [
       "<table class=\"simpletable\">\n",
       "<caption>OLS Regression Results</caption>\n",
       "<tr>\n",
       "  <th>Dep. Variable:</th>    <td>Item_Outlet_Sales</td> <th>  R-squared:         </th> <td>   0.258</td> \n",
       "</tr>\n",
       "<tr>\n",
       "  <th>Model:</th>                   <td>OLS</td>        <th>  Adj. R-squared:    </th> <td>   0.255</td> \n",
       "</tr>\n",
       "<tr>\n",
       "  <th>Method:</th>             <td>Least Squares</td>   <th>  F-statistic:       </th> <td>   105.4</td> \n",
       "</tr>\n",
       "<tr>\n",
       "  <th>Date:</th>             <td>Fri, 15 Dec 2017</td>  <th>  Prob (F-statistic):</th>  <td>  0.00</td>  \n",
       "</tr>\n",
       "<tr>\n",
       "  <th>Time:</th>                 <td>10:40:54</td>      <th>  Log-Likelihood:    </th> <td> -73400.</td> \n",
       "</tr>\n",
       "<tr>\n",
       "  <th>No. Observations:</th>      <td>  8523</td>       <th>  AIC:               </th> <td>1.469e+05</td>\n",
       "</tr>\n",
       "<tr>\n",
       "  <th>Df Residuals:</th>          <td>  8494</td>       <th>  BIC:               </th> <td>1.471e+05</td>\n",
       "</tr>\n",
       "<tr>\n",
       "  <th>Df Model:</th>              <td>    28</td>       <th>                     </th>     <td> </td>    \n",
       "</tr>\n",
       "<tr>\n",
       "  <th>Covariance Type:</th>      <td>nonrobust</td>     <th>                     </th>     <td> </td>    \n",
       "</tr>\n",
       "</table>\n",
       "<table class=\"simpletable\">\n",
       "<tr>\n",
       "                   <td></td>                     <th>coef</th>     <th>std err</th>      <th>t</th>      <th>P>|t|</th>  <th>[0.025</th>    <th>0.975]</th>  \n",
       "</tr>\n",
       "<tr>\n",
       "  <th>Intercept</th>                          <td> 5.964e+13</td> <td> 7.37e+14</td> <td>    0.081</td> <td> 0.935</td> <td>-1.38e+15</td> <td>  1.5e+15</td>\n",
       "</tr>\n",
       "<tr>\n",
       "  <th>Item_Fat_Content[T.Low Fat]</th>        <td>   28.1266</td> <td>   77.413</td> <td>    0.363</td> <td> 0.716</td> <td> -123.621</td> <td>  179.874</td>\n",
       "</tr>\n",
       "<tr>\n",
       "  <th>Item_Fat_Content[T.Regular]</th>        <td>   90.6092</td> <td>   80.384</td> <td>    1.127</td> <td> 0.260</td> <td>  -66.964</td> <td>  248.182</td>\n",
       "</tr>\n",
       "<tr>\n",
       "  <th>Item_Fat_Content[T.low fat]</th>        <td>  -16.8108</td> <td>  147.005</td> <td>   -0.114</td> <td> 0.909</td> <td> -304.977</td> <td>  271.355</td>\n",
       "</tr>\n",
       "<tr>\n",
       "  <th>Item_Fat_Content[T.reg]</th>            <td>  -88.0480</td> <td>  145.142</td> <td>   -0.607</td> <td> 0.544</td> <td> -372.562</td> <td>  196.466</td>\n",
       "</tr>\n",
       "<tr>\n",
       "  <th>Item_Type[T.Breads]</th>                <td>  213.1940</td> <td>   99.114</td> <td>    2.151</td> <td> 0.032</td> <td>   18.907</td> <td>  407.481</td>\n",
       "</tr>\n",
       "<tr>\n",
       "  <th>Item_Type[T.Breakfast]</th>             <td>  157.3428</td> <td>  137.559</td> <td>    1.144</td> <td> 0.253</td> <td> -112.306</td> <td>  426.992</td>\n",
       "</tr>\n",
       "<tr>\n",
       "  <th>Item_Type[T.Canned]</th>                <td>  216.6225</td> <td>   74.017</td> <td>    2.927</td> <td> 0.003</td> <td>   71.530</td> <td>  361.715</td>\n",
       "</tr>\n",
       "<tr>\n",
       "  <th>Item_Type[T.Dairy]</th>                 <td>  232.2969</td> <td>   73.195</td> <td>    3.174</td> <td> 0.002</td> <td>   88.818</td> <td>  375.776</td>\n",
       "</tr>\n",
       "<tr>\n",
       "  <th>Item_Type[T.Frozen Foods]</th>          <td>  134.4501</td> <td>   69.402</td> <td>    1.937</td> <td> 0.053</td> <td>   -1.594</td> <td>  270.494</td>\n",
       "</tr>\n",
       "<tr>\n",
       "  <th>Item_Type[T.Fruits and Vegetables]</th> <td>  268.3430</td> <td>   64.672</td> <td>    4.149</td> <td> 0.000</td> <td>  141.571</td> <td>  395.116</td>\n",
       "</tr>\n",
       "<tr>\n",
       "  <th>Item_Type[T.Hard Drinks]</th>           <td>  160.7951</td> <td>  106.412</td> <td>    1.511</td> <td> 0.131</td> <td>  -47.799</td> <td>  369.389</td>\n",
       "</tr>\n",
       "<tr>\n",
       "  <th>Item_Type[T.Health and Hygiene]</th>    <td>   59.7339</td> <td>   80.151</td> <td>    0.745</td> <td> 0.456</td> <td>  -97.381</td> <td>  216.849</td>\n",
       "</tr>\n",
       "<tr>\n",
       "  <th>Item_Type[T.Household]</th>             <td>  305.1173</td> <td>   70.433</td> <td>    4.332</td> <td> 0.000</td> <td>  167.051</td> <td>  443.184</td>\n",
       "</tr>\n",
       "<tr>\n",
       "  <th>Item_Type[T.Meat]</th>                  <td>  191.3836</td> <td>   83.292</td> <td>    2.298</td> <td> 0.022</td> <td>   28.111</td> <td>  354.657</td>\n",
       "</tr>\n",
       "<tr>\n",
       "  <th>Item_Type[T.Others]</th>                <td>  109.1824</td> <td>  116.283</td> <td>    0.939</td> <td> 0.348</td> <td> -118.761</td> <td>  337.126</td>\n",
       "</tr>\n",
       "<tr>\n",
       "  <th>Item_Type[T.Seafood]</th>               <td>  417.2239</td> <td>  174.703</td> <td>    2.388</td> <td> 0.017</td> <td>   74.765</td> <td>  759.683</td>\n",
       "</tr>\n",
       "<tr>\n",
       "  <th>Item_Type[T.Snack Foods]</th>           <td>  269.5634</td> <td>   65.017</td> <td>    4.146</td> <td> 0.000</td> <td>  142.114</td> <td>  397.013</td>\n",
       "</tr>\n",
       "<tr>\n",
       "  <th>Item_Type[T.Soft Drinks]</th>           <td>   25.0605</td> <td>   82.792</td> <td>    0.303</td> <td> 0.762</td> <td> -137.232</td> <td>  187.353</td>\n",
       "</tr>\n",
       "<tr>\n",
       "  <th>Item_Type[T.Starchy Foods]</th>         <td>  323.6823</td> <td>  121.519</td> <td>    2.664</td> <td> 0.008</td> <td>   85.476</td> <td>  561.889</td>\n",
       "</tr>\n",
       "<tr>\n",
       "  <th>Outlet_Identifier[T.OUT013]</th>        <td> 6.198e+14</td> <td> 3.22e+15</td> <td>    0.192</td> <td> 0.847</td> <td> -5.7e+15</td> <td> 6.93e+15</td>\n",
       "</tr>\n",
       "<tr>\n",
       "  <th>Outlet_Identifier[T.OUT017]</th>        <td> 1.786e+14</td> <td> 3.28e+14</td> <td>    0.545</td> <td> 0.586</td> <td>-4.64e+14</td> <td> 8.21e+14</td>\n",
       "</tr>\n",
       "<tr>\n",
       "  <th>Outlet_Identifier[T.OUT018]</th>        <td>   1.5e+15</td> <td> 2.68e+15</td> <td>    0.560</td> <td> 0.576</td> <td>-3.75e+15</td> <td> 6.75e+15</td>\n",
       "</tr>\n",
       "<tr>\n",
       "  <th>Outlet_Identifier[T.OUT019]</th>        <td>-1.061e+15</td> <td> 2.35e+15</td> <td>   -0.451</td> <td> 0.652</td> <td>-5.68e+15</td> <td> 3.55e+15</td>\n",
       "</tr>\n",
       "<tr>\n",
       "  <th>Outlet_Identifier[T.OUT027]</th>        <td>-4.226e+14</td> <td> 7.67e+14</td> <td>   -0.551</td> <td> 0.582</td> <td>-1.93e+15</td> <td> 1.08e+15</td>\n",
       "</tr>\n",
       "<tr>\n",
       "  <th>Outlet_Identifier[T.OUT035]</th>        <td>-4.025e+14</td> <td> 1.39e+15</td> <td>   -0.289</td> <td> 0.772</td> <td>-3.13e+15</td> <td> 2.33e+15</td>\n",
       "</tr>\n",
       "<tr>\n",
       "  <th>Outlet_Identifier[T.OUT045]</th>        <td> 2.521e+14</td> <td>  4.5e+14</td> <td>    0.560</td> <td> 0.575</td> <td> -6.3e+14</td> <td> 1.13e+15</td>\n",
       "</tr>\n",
       "<tr>\n",
       "  <th>Outlet_Identifier[T.OUT046]</th>        <td> 4.986e+13</td> <td> 7.02e+14</td> <td>    0.071</td> <td> 0.943</td> <td>-1.33e+15</td> <td> 1.43e+15</td>\n",
       "</tr>\n",
       "<tr>\n",
       "  <th>Outlet_Identifier[T.OUT049]</th>        <td>  7.36e+14</td> <td> 1.31e+15</td> <td>    0.561</td> <td> 0.574</td> <td>-1.83e+15</td> <td> 3.31e+15</td>\n",
       "</tr>\n",
       "<tr>\n",
       "  <th>Outlet_Establishment_Year[T.1987]</th>  <td>-1.102e+14</td> <td>  2.7e+15</td> <td>   -0.041</td> <td> 0.967</td> <td>-5.41e+15</td> <td> 5.19e+15</td>\n",
       "</tr>\n",
       "<tr>\n",
       "  <th>Outlet_Establishment_Year[T.1997]</th>  <td> 4.696e+13</td> <td> 7.03e+14</td> <td>    0.067</td> <td> 0.947</td> <td>-1.33e+15</td> <td> 1.43e+15</td>\n",
       "</tr>\n",
       "<tr>\n",
       "  <th>Outlet_Establishment_Year[T.1998]</th>  <td>-5.405e+14</td> <td> 9.86e+14</td> <td>   -0.548</td> <td> 0.584</td> <td>-2.47e+15</td> <td> 1.39e+15</td>\n",
       "</tr>\n",
       "<tr>\n",
       "  <th>Outlet_Establishment_Year[T.1999]</th>  <td> 4.707e+14</td> <td> 8.69e+14</td> <td>    0.542</td> <td> 0.588</td> <td>-1.23e+15</td> <td> 2.17e+15</td>\n",
       "</tr>\n",
       "<tr>\n",
       "  <th>Outlet_Establishment_Year[T.2002]</th>  <td> 2.522e+14</td> <td> 4.69e+14</td> <td>    0.538</td> <td> 0.591</td> <td>-6.67e+14</td> <td> 1.17e+15</td>\n",
       "</tr>\n",
       "<tr>\n",
       "  <th>Outlet_Establishment_Year[T.2004]</th>  <td>-2.031e+14</td> <td> 4.25e+14</td> <td>   -0.478</td> <td> 0.632</td> <td>-1.04e+15</td> <td> 6.29e+14</td>\n",
       "</tr>\n",
       "<tr>\n",
       "  <th>Outlet_Establishment_Year[T.2007]</th>  <td> 3.257e+14</td> <td> 6.35e+14</td> <td>    0.513</td> <td> 0.608</td> <td>-9.18e+14</td> <td> 1.57e+15</td>\n",
       "</tr>\n",
       "<tr>\n",
       "  <th>Outlet_Establishment_Year[T.2009]</th>  <td>-9.492e+13</td> <td> 1.72e+14</td> <td>   -0.551</td> <td> 0.582</td> <td>-4.33e+14</td> <td> 2.43e+14</td>\n",
       "</tr>\n",
       "<tr>\n",
       "  <th>Outlet_Size[T.Medium]</th>              <td>-1.081e+14</td> <td> 5.94e+14</td> <td>   -0.182</td> <td> 0.856</td> <td>-1.27e+15</td> <td> 1.06e+15</td>\n",
       "</tr>\n",
       "<tr>\n",
       "  <th>Outlet_Size[T.Small]</th>               <td> 1.002e+15</td> <td> 1.91e+15</td> <td>    0.526</td> <td> 0.599</td> <td>-2.73e+15</td> <td> 4.74e+15</td>\n",
       "</tr>\n",
       "<tr>\n",
       "  <th>Outlet_Location_Type[T.Tier 2]</th>     <td> 7.024e+14</td> <td> 1.25e+15</td> <td>    0.562</td> <td> 0.574</td> <td>-1.75e+15</td> <td> 3.15e+15</td>\n",
       "</tr>\n",
       "<tr>\n",
       "  <th>Outlet_Location_Type[T.Tier 3]</th>     <td>  5.89e+14</td> <td> 1.12e+15</td> <td>    0.528</td> <td> 0.598</td> <td> -1.6e+15</td> <td> 2.78e+15</td>\n",
       "</tr>\n",
       "<tr>\n",
       "  <th>Outlet_Type[T.Supermarket Type1]</th>   <td>-1.158e+15</td> <td> 2.06e+15</td> <td>   -0.563</td> <td> 0.574</td> <td>-5.19e+15</td> <td> 2.88e+15</td>\n",
       "</tr>\n",
       "<tr>\n",
       "  <th>Outlet_Type[T.Supermarket Type2]</th>   <td>-1.946e+15</td> <td>  3.5e+15</td> <td>   -0.556</td> <td> 0.578</td> <td> -8.8e+15</td> <td> 4.91e+15</td>\n",
       "</tr>\n",
       "<tr>\n",
       "  <th>Outlet_Type[T.Supermarket Type3]</th>   <td> -1.18e+14</td> <td>  2.2e+14</td> <td>   -0.536</td> <td> 0.592</td> <td>-5.49e+14</td> <td> 3.13e+14</td>\n",
       "</tr>\n",
       "</table>\n",
       "<table class=\"simpletable\">\n",
       "<tr>\n",
       "  <th>Omnibus:</th>       <td>467.560</td> <th>  Durbin-Watson:     </th> <td>   1.998</td> \n",
       "</tr>\n",
       "<tr>\n",
       "  <th>Prob(Omnibus):</th> <td> 0.000</td>  <th>  Jarque-Bera (JB):  </th> <td> 546.423</td> \n",
       "</tr>\n",
       "<tr>\n",
       "  <th>Skew:</th>          <td> 0.618</td>  <th>  Prob(JB):          </th> <td>2.22e-119</td>\n",
       "</tr>\n",
       "<tr>\n",
       "  <th>Kurtosis:</th>      <td> 2.891</td>  <th>  Cond. No.          </th> <td>1.76e+16</td> \n",
       "</tr>\n",
       "</table>"
      ],
      "text/plain": [
       "<class 'statsmodels.iolib.summary.Summary'>\n",
       "\"\"\"\n",
       "                            OLS Regression Results                            \n",
       "==============================================================================\n",
       "Dep. Variable:      Item_Outlet_Sales   R-squared:                       0.258\n",
       "Model:                            OLS   Adj. R-squared:                  0.255\n",
       "Method:                 Least Squares   F-statistic:                     105.4\n",
       "Date:                Fri, 15 Dec 2017   Prob (F-statistic):               0.00\n",
       "Time:                        10:40:54   Log-Likelihood:                -73400.\n",
       "No. Observations:                8523   AIC:                         1.469e+05\n",
       "Df Residuals:                    8494   BIC:                         1.471e+05\n",
       "Df Model:                          28                                         \n",
       "Covariance Type:            nonrobust                                         \n",
       "======================================================================================================\n",
       "                                         coef    std err          t      P>|t|      [0.025      0.975]\n",
       "------------------------------------------------------------------------------------------------------\n",
       "Intercept                           5.964e+13   7.37e+14      0.081      0.935   -1.38e+15     1.5e+15\n",
       "Item_Fat_Content[T.Low Fat]           28.1266     77.413      0.363      0.716    -123.621     179.874\n",
       "Item_Fat_Content[T.Regular]           90.6092     80.384      1.127      0.260     -66.964     248.182\n",
       "Item_Fat_Content[T.low fat]          -16.8108    147.005     -0.114      0.909    -304.977     271.355\n",
       "Item_Fat_Content[T.reg]              -88.0480    145.142     -0.607      0.544    -372.562     196.466\n",
       "Item_Type[T.Breads]                  213.1940     99.114      2.151      0.032      18.907     407.481\n",
       "Item_Type[T.Breakfast]               157.3428    137.559      1.144      0.253    -112.306     426.992\n",
       "Item_Type[T.Canned]                  216.6225     74.017      2.927      0.003      71.530     361.715\n",
       "Item_Type[T.Dairy]                   232.2969     73.195      3.174      0.002      88.818     375.776\n",
       "Item_Type[T.Frozen Foods]            134.4501     69.402      1.937      0.053      -1.594     270.494\n",
       "Item_Type[T.Fruits and Vegetables]   268.3430     64.672      4.149      0.000     141.571     395.116\n",
       "Item_Type[T.Hard Drinks]             160.7951    106.412      1.511      0.131     -47.799     369.389\n",
       "Item_Type[T.Health and Hygiene]       59.7339     80.151      0.745      0.456     -97.381     216.849\n",
       "Item_Type[T.Household]               305.1173     70.433      4.332      0.000     167.051     443.184\n",
       "Item_Type[T.Meat]                    191.3836     83.292      2.298      0.022      28.111     354.657\n",
       "Item_Type[T.Others]                  109.1824    116.283      0.939      0.348    -118.761     337.126\n",
       "Item_Type[T.Seafood]                 417.2239    174.703      2.388      0.017      74.765     759.683\n",
       "Item_Type[T.Snack Foods]             269.5634     65.017      4.146      0.000     142.114     397.013\n",
       "Item_Type[T.Soft Drinks]              25.0605     82.792      0.303      0.762    -137.232     187.353\n",
       "Item_Type[T.Starchy Foods]           323.6823    121.519      2.664      0.008      85.476     561.889\n",
       "Outlet_Identifier[T.OUT013]         6.198e+14   3.22e+15      0.192      0.847    -5.7e+15    6.93e+15\n",
       "Outlet_Identifier[T.OUT017]         1.786e+14   3.28e+14      0.545      0.586   -4.64e+14    8.21e+14\n",
       "Outlet_Identifier[T.OUT018]           1.5e+15   2.68e+15      0.560      0.576   -3.75e+15    6.75e+15\n",
       "Outlet_Identifier[T.OUT019]        -1.061e+15   2.35e+15     -0.451      0.652   -5.68e+15    3.55e+15\n",
       "Outlet_Identifier[T.OUT027]        -4.226e+14   7.67e+14     -0.551      0.582   -1.93e+15    1.08e+15\n",
       "Outlet_Identifier[T.OUT035]        -4.025e+14   1.39e+15     -0.289      0.772   -3.13e+15    2.33e+15\n",
       "Outlet_Identifier[T.OUT045]         2.521e+14    4.5e+14      0.560      0.575    -6.3e+14    1.13e+15\n",
       "Outlet_Identifier[T.OUT046]         4.986e+13   7.02e+14      0.071      0.943   -1.33e+15    1.43e+15\n",
       "Outlet_Identifier[T.OUT049]          7.36e+14   1.31e+15      0.561      0.574   -1.83e+15    3.31e+15\n",
       "Outlet_Establishment_Year[T.1987]  -1.102e+14    2.7e+15     -0.041      0.967   -5.41e+15    5.19e+15\n",
       "Outlet_Establishment_Year[T.1997]   4.696e+13   7.03e+14      0.067      0.947   -1.33e+15    1.43e+15\n",
       "Outlet_Establishment_Year[T.1998]  -5.405e+14   9.86e+14     -0.548      0.584   -2.47e+15    1.39e+15\n",
       "Outlet_Establishment_Year[T.1999]   4.707e+14   8.69e+14      0.542      0.588   -1.23e+15    2.17e+15\n",
       "Outlet_Establishment_Year[T.2002]   2.522e+14   4.69e+14      0.538      0.591   -6.67e+14    1.17e+15\n",
       "Outlet_Establishment_Year[T.2004]  -2.031e+14   4.25e+14     -0.478      0.632   -1.04e+15    6.29e+14\n",
       "Outlet_Establishment_Year[T.2007]   3.257e+14   6.35e+14      0.513      0.608   -9.18e+14    1.57e+15\n",
       "Outlet_Establishment_Year[T.2009]  -9.492e+13   1.72e+14     -0.551      0.582   -4.33e+14    2.43e+14\n",
       "Outlet_Size[T.Medium]              -1.081e+14   5.94e+14     -0.182      0.856   -1.27e+15    1.06e+15\n",
       "Outlet_Size[T.Small]                1.002e+15   1.91e+15      0.526      0.599   -2.73e+15    4.74e+15\n",
       "Outlet_Location_Type[T.Tier 2]      7.024e+14   1.25e+15      0.562      0.574   -1.75e+15    3.15e+15\n",
       "Outlet_Location_Type[T.Tier 3]       5.89e+14   1.12e+15      0.528      0.598    -1.6e+15    2.78e+15\n",
       "Outlet_Type[T.Supermarket Type1]   -1.158e+15   2.06e+15     -0.563      0.574   -5.19e+15    2.88e+15\n",
       "Outlet_Type[T.Supermarket Type2]   -1.946e+15    3.5e+15     -0.556      0.578    -8.8e+15    4.91e+15\n",
       "Outlet_Type[T.Supermarket Type3]    -1.18e+14    2.2e+14     -0.536      0.592   -5.49e+14    3.13e+14\n",
       "==============================================================================\n",
       "Omnibus:                      467.560   Durbin-Watson:                   1.998\n",
       "Prob(Omnibus):                  0.000   Jarque-Bera (JB):              546.423\n",
       "Skew:                           0.618   Prob(JB):                    2.22e-119\n",
       "Kurtosis:                       2.891   Cond. No.                     1.76e+16\n",
       "==============================================================================\n",
       "\n",
       "Warnings:\n",
       "[1] Standard Errors assume that the covariance matrix of the errors is correctly specified.\n",
       "[2] The smallest eigenvalue is 8.2e-29. This might indicate that there are\n",
       "strong multicollinearity problems or that the design matrix is singular.\n",
       "\"\"\""
      ]
     },
     "execution_count": 70,
     "metadata": {},
     "output_type": "execute_result"
    }
   ],
   "source": [
    "lm1 = smf.ols('Item_Outlet_Sales ~Item_Fat_Content+Item_Type+Outlet_Identifier+Outlet_Establishment_Year+Outlet_Size+Outlet_Location_Type+Outlet_Type', categorical_col).fit()\n",
    "lm1.summary()"
   ]
  },
  {
   "cell_type": "markdown",
   "metadata": {},
   "source": [
    "# 1.Item_Fat_Content"
   ]
  },
  {
   "cell_type": "code",
   "execution_count": 71,
   "metadata": {
    "collapsed": true
   },
   "outputs": [],
   "source": [
    "import scipy.stats as stats"
   ]
  },
  {
   "cell_type": "code",
   "execution_count": 72,
   "metadata": {},
   "outputs": [
    {
     "data": {
      "text/plain": [
       "Low Fat    5089\n",
       "Regular    2889\n",
       "LF          316\n",
       "reg         117\n",
       "low fat     112\n",
       "Name: Item_Fat_Content, dtype: int64"
      ]
     },
     "execution_count": 72,
     "metadata": {},
     "output_type": "execute_result"
    }
   ],
   "source": [
    "cat_cols.Item_Fat_Content.value_counts()"
   ]
  },
  {
   "cell_type": "code",
   "execution_count": 73,
   "metadata": {
    "collapsed": true
   },
   "outputs": [],
   "source": [
    "s1 = categorical_col.Item_Outlet_Sales[categorical_col.Item_Fat_Content==\"Low Fat\"]\n",
    "s2 = categorical_col.Item_Outlet_Sales[categorical_col.Item_Fat_Content==\"Regular\"]\n",
    "s3 = categorical_col.Item_Outlet_Sales[categorical_col.Item_Fat_Content==\"LF\"]\n",
    "s4 = categorical_col.Item_Outlet_Sales[categorical_col.Item_Fat_Content==\"reg\"]\n",
    "s5 = categorical_col.Item_Outlet_Sales[categorical_col.Item_Fat_Content==\"low fat\"]"
   ]
  },
  {
   "cell_type": "code",
   "execution_count": 74,
   "metadata": {},
   "outputs": [
    {
     "data": {
      "text/plain": [
       "F_onewayResult(statistic=1.7628367310426605, pvalue=0.1333079866732248)"
      ]
     },
     "execution_count": 74,
     "metadata": {},
     "output_type": "execute_result"
    }
   ],
   "source": [
    "stats.f_oneway(s1, s2, s3, s4,s5)"
   ]
  },
  {
   "cell_type": "markdown",
   "metadata": {},
   "source": [
    "# 2.Item_Type"
   ]
  },
  {
   "cell_type": "code",
   "execution_count": 75,
   "metadata": {},
   "outputs": [
    {
     "data": {
      "text/plain": [
       "Fruits and Vegetables    1232\n",
       "Snack Foods              1200\n",
       "Household                 910\n",
       "Frozen Foods              856\n",
       "Dairy                     682\n",
       "Canned                    649\n",
       "Baking Goods              648\n",
       "Health and Hygiene        520\n",
       "Soft Drinks               445\n",
       "Meat                      425\n",
       "Breads                    251\n",
       "Hard Drinks               214\n",
       "Others                    169\n",
       "Starchy Foods             148\n",
       "Breakfast                 110\n",
       "Seafood                    64\n",
       "Name: Item_Type, dtype: int64"
      ]
     },
     "execution_count": 75,
     "metadata": {},
     "output_type": "execute_result"
    }
   ],
   "source": [
    "cat_cols.Item_Type.value_counts()"
   ]
  },
  {
   "cell_type": "code",
   "execution_count": 76,
   "metadata": {
    "collapsed": true
   },
   "outputs": [],
   "source": [
    "s1 = categorical_col.Item_Outlet_Sales[categorical_col.Item_Type==\"Fruits and Vegetables\"]\n",
    "s2 = categorical_col.Item_Outlet_Sales[categorical_col.Item_Type==\"Snack Foods\"]\n",
    "s3 = categorical_col.Item_Outlet_Sales[categorical_col.Item_Type==\"Household\"]\n",
    "s4 = categorical_col.Item_Outlet_Sales[categorical_col.Item_Type==\"Frozen Foods\"]\n",
    "s5 = categorical_col.Item_Outlet_Sales[categorical_col.Item_Type==\"Dairy\"]\n",
    "s6 = categorical_col.Item_Outlet_Sales[categorical_col.Item_Type==\"Canned\"]\n",
    "s7 = categorical_col.Item_Outlet_Sales[categorical_col.Item_Type==\"Baking Goods\"]\n",
    "s8 = categorical_col.Item_Outlet_Sales[categorical_col.Item_Type==\"Health and Hygiene\"]\n",
    "s9 = categorical_col.Item_Outlet_Sales[categorical_col.Item_Type==\"Soft Drinks\"]\n",
    "s10 = categorical_col.Item_Outlet_Sales[categorical_col.Item_Type==\"Meat\"]\n",
    "s11 = categorical_col.Item_Outlet_Sales[categorical_col.Item_Type==\"Breads\"]\n",
    "s12 = categorical_col.Item_Outlet_Sales[categorical_col.Item_Type==\"Hard Drinks\"]\n",
    "s13 = categorical_col.Item_Outlet_Sales[categorical_col.Item_Type==\"Others\"]\n",
    "s14 = categorical_col.Item_Outlet_Sales[categorical_col.Item_Type==\"Starchy Foods\"]\n",
    "s15 = categorical_col.Item_Outlet_Sales[categorical_col.Item_Type==\"Breakfast\"]\n",
    "s16 = categorical_col.Item_Outlet_Sales[categorical_col.Item_Type==\"Seafood\"]"
   ]
  },
  {
   "cell_type": "code",
   "execution_count": 77,
   "metadata": {},
   "outputs": [
    {
     "data": {
      "text/plain": [
       "F_onewayResult(statistic=2.9635735713822764, pvalue=6.0507695983464168e-05)"
      ]
     },
     "execution_count": 77,
     "metadata": {},
     "output_type": "execute_result"
    }
   ],
   "source": [
    "stats.f_oneway(s1, s2, s3, s4,s5,s6,s7,s8,s9,s9,s10,s11,s12,s13,s14,s15,s16)"
   ]
  },
  {
   "cell_type": "markdown",
   "metadata": {},
   "source": [
    "# 3.Outlet_Identifier"
   ]
  },
  {
   "cell_type": "code",
   "execution_count": 78,
   "metadata": {},
   "outputs": [
    {
     "data": {
      "text/plain": [
       "OUT027    935\n",
       "OUT013    932\n",
       "OUT049    930\n",
       "OUT035    930\n",
       "OUT046    930\n",
       "OUT045    929\n",
       "OUT018    928\n",
       "OUT017    926\n",
       "OUT010    555\n",
       "OUT019    528\n",
       "Name: Outlet_Identifier, dtype: int64"
      ]
     },
     "execution_count": 78,
     "metadata": {},
     "output_type": "execute_result"
    }
   ],
   "source": [
    "cat_cols.Outlet_Identifier.value_counts()"
   ]
  },
  {
   "cell_type": "code",
   "execution_count": 79,
   "metadata": {
    "collapsed": true
   },
   "outputs": [],
   "source": [
    "s1 = categorical_col.Item_Outlet_Sales[categorical_col.Outlet_Identifier==\"OUT027\"]\n",
    "s2 = categorical_col.Item_Outlet_Sales[categorical_col.Outlet_Identifier==\"OUT013\"]\n",
    "s3 = categorical_col.Item_Outlet_Sales[categorical_col.Outlet_Identifier==\"OUT046\"]\n",
    "s4 = categorical_col.Item_Outlet_Sales[categorical_col.Outlet_Identifier==\"OUT035\"]\n",
    "s5 = categorical_col.Item_Outlet_Sales[categorical_col.Outlet_Identifier==\"OUT049\"]\n",
    "s6 = categorical_col.Item_Outlet_Sales[categorical_col.Outlet_Identifier==\"OUT045\"]\n",
    "s7 = categorical_col.Item_Outlet_Sales[categorical_col.Outlet_Identifier==\"OUT018\"]\n",
    "s8 = categorical_col.Item_Outlet_Sales[categorical_col.Outlet_Identifier==\"OUT017\"]\n",
    "s9 = categorical_col.Item_Outlet_Sales[categorical_col.Outlet_Identifier==\"OUT010\"]\n",
    "s10 = categorical_col.Item_Outlet_Sales[categorical_col.Outlet_Identifier==\"OUT019\"]"
   ]
  },
  {
   "cell_type": "code",
   "execution_count": 80,
   "metadata": {},
   "outputs": [
    {
     "data": {
      "text/plain": [
       "F_onewayResult(statistic=405.4479092866851, pvalue=0.0)"
      ]
     },
     "execution_count": 80,
     "metadata": {},
     "output_type": "execute_result"
    }
   ],
   "source": [
    "stats.f_oneway(s1, s2, s3, s4,s5,s6,s7,s8,s9,s9,s10)"
   ]
  },
  {
   "cell_type": "markdown",
   "metadata": {},
   "source": [
    "# 4.Outlet_Size"
   ]
  },
  {
   "cell_type": "code",
   "execution_count": 81,
   "metadata": {},
   "outputs": [
    {
     "data": {
      "text/plain": [
       "Medium    5203\n",
       "Small     2388\n",
       "High       932\n",
       "Name: Outlet_Size, dtype: int64"
      ]
     },
     "execution_count": 81,
     "metadata": {},
     "output_type": "execute_result"
    }
   ],
   "source": [
    "cat_cols.Outlet_Size.value_counts()"
   ]
  },
  {
   "cell_type": "code",
   "execution_count": 82,
   "metadata": {
    "collapsed": true
   },
   "outputs": [],
   "source": [
    "s1 = categorical_col.Item_Outlet_Sales[categorical_col.Outlet_Size==\"Medium\"]\n",
    "s2 = categorical_col.Item_Outlet_Sales[categorical_col.Outlet_Size==\"Small\"]\n",
    "s3 = categorical_col.Item_Outlet_Sales[categorical_col.Outlet_Size==\"High\"]\n"
   ]
  },
  {
   "cell_type": "code",
   "execution_count": 83,
   "metadata": {},
   "outputs": [
    {
     "data": {
      "text/plain": [
       "F_onewayResult(statistic=40.472988091770794, pvalue=3.2046258351850154e-18)"
      ]
     },
     "execution_count": 83,
     "metadata": {},
     "output_type": "execute_result"
    }
   ],
   "source": [
    "stats.f_oneway(s1, s2, s3)"
   ]
  },
  {
   "cell_type": "markdown",
   "metadata": {},
   "source": [
    "# 5.Outlet_Location_Type"
   ]
  },
  {
   "cell_type": "code",
   "execution_count": 84,
   "metadata": {},
   "outputs": [
    {
     "data": {
      "text/plain": [
       "Tier 3    3350\n",
       "Tier 2    2785\n",
       "Tier 1    2388\n",
       "Name: Outlet_Location_Type, dtype: int64"
      ]
     },
     "execution_count": 84,
     "metadata": {},
     "output_type": "execute_result"
    }
   ],
   "source": [
    "cat_cols.Outlet_Location_Type.value_counts()"
   ]
  },
  {
   "cell_type": "code",
   "execution_count": 85,
   "metadata": {
    "collapsed": true
   },
   "outputs": [],
   "source": [
    "s1 = categorical_col.Item_Outlet_Sales[categorical_col.Outlet_Location_Type==\"Tier 3\"]\n",
    "s2 = categorical_col.Item_Outlet_Sales[categorical_col.Outlet_Location_Type==\"Tier 2\"]\n",
    "s3 = categorical_col.Item_Outlet_Sales[categorical_col.Outlet_Location_Type==\"Tier 1\"]\n"
   ]
  },
  {
   "cell_type": "code",
   "execution_count": 86,
   "metadata": {},
   "outputs": [
    {
     "data": {
      "text/plain": [
       "F_onewayResult(statistic=54.927109259133367, pvalue=1.9858057984483207e-24)"
      ]
     },
     "execution_count": 86,
     "metadata": {},
     "output_type": "execute_result"
    }
   ],
   "source": [
    "stats.f_oneway(s1, s2, s3)"
   ]
  },
  {
   "cell_type": "markdown",
   "metadata": {},
   "source": [
    "# 6.Outlet_Type"
   ]
  },
  {
   "cell_type": "code",
   "execution_count": 87,
   "metadata": {},
   "outputs": [
    {
     "data": {
      "text/plain": [
       "Supermarket Type1    5577\n",
       "Grocery Store        1083\n",
       "Supermarket Type3     935\n",
       "Supermarket Type2     928\n",
       "Name: Outlet_Type, dtype: int64"
      ]
     },
     "execution_count": 87,
     "metadata": {},
     "output_type": "execute_result"
    }
   ],
   "source": [
    "cat_cols.Outlet_Type.value_counts()"
   ]
  },
  {
   "cell_type": "code",
   "execution_count": 88,
   "metadata": {
    "collapsed": true
   },
   "outputs": [],
   "source": [
    "s1 = categorical_col.Item_Outlet_Sales[categorical_col.Outlet_Type==\"Supermarket Type1\"]\n",
    "s2 = categorical_col.Item_Outlet_Sales[categorical_col.Outlet_Type==\"Grocery Store\"]\n",
    "s3 = categorical_col.Item_Outlet_Sales[categorical_col.Outlet_Type==\"Supermarket Type3\"]\n",
    "s4 = categorical_col.Item_Outlet_Sales[categorical_col.Outlet_Type==\"Supermarket Type2\"]\n"
   ]
  },
  {
   "cell_type": "code",
   "execution_count": 89,
   "metadata": {},
   "outputs": [
    {
     "data": {
      "text/plain": [
       "F_onewayResult(statistic=955.81343867904218, pvalue=0.0)"
      ]
     },
     "execution_count": 89,
     "metadata": {},
     "output_type": "execute_result"
    }
   ],
   "source": [
    "stats.f_oneway(s1, s2, s3, s4)"
   ]
  },
  {
   "cell_type": "code",
   "execution_count": 90,
   "metadata": {
    "collapsed": true
   },
   "outputs": [],
   "source": [
    "Final_Cat_Cols = cat_cols.drop(['Item_Fat_Content', 'Outlet_Identifier'\n",
    "       ],axis =1)"
   ]
  },
  {
   "cell_type": "code",
   "execution_count": 91,
   "metadata": {},
   "outputs": [
    {
     "data": {
      "text/plain": [
       "Index(['Item_Type', 'Outlet_Establishment_Year', 'Outlet_Size',\n",
       "       'Outlet_Location_Type', 'Outlet_Type'],\n",
       "      dtype='object')"
      ]
     },
     "execution_count": 91,
     "metadata": {},
     "output_type": "execute_result"
    }
   ],
   "source": [
    "Final_Cat_Cols.columns"
   ]
  },
  {
   "cell_type": "code",
   "execution_count": 92,
   "metadata": {
    "collapsed": true
   },
   "outputs": [],
   "source": [
    "#now lets do dummies\n",
    "dummies_concat =  pd.get_dummies(Final_Cat_Cols, columns =['Outlet_Size', 'Outlet_Location_Type',\n",
    "       'Outlet_Type','Item_Type','Outlet_Establishment_Year'],drop_first =True)"
   ]
  },
  {
   "cell_type": "code",
   "execution_count": 105,
   "metadata": {},
   "outputs": [],
   "source": [
    "#As we completed preprocessing for train now lets concat numaric and categorical attrebutes\n",
    "final = pd.concat([Final_Num_Cols,dummies_concat], axis =1)"
   ]
  },
  {
   "cell_type": "code",
   "execution_count": 106,
   "metadata": {},
   "outputs": [
    {
     "data": {
      "text/plain": [
       "Outlet_Establishment_Year_2009     0\n",
       "Item_Type_Fruits and Vegetables    0\n",
       "Item_Outlet_Sales                  0\n",
       "intercept                          0\n",
       "Outlet_Size_Medium                 0\n",
       "Outlet_Size_Small                  0\n",
       "Outlet_Location_Type_Tier 2        0\n",
       "Outlet_Location_Type_Tier 3        0\n",
       "Outlet_Type_Supermarket Type1      0\n",
       "Outlet_Type_Supermarket Type2      0\n",
       "Outlet_Type_Supermarket Type3      0\n",
       "Item_Type_Breads                   0\n",
       "Item_Type_Breakfast                0\n",
       "Item_Type_Canned                   0\n",
       "Item_Type_Dairy                    0\n",
       "Item_Type_Frozen Foods             0\n",
       "Item_Type_Hard Drinks              0\n",
       "Outlet_Establishment_Year_2007     0\n",
       "Item_Type_Health and Hygiene       0\n",
       "Item_Type_Household                0\n",
       "Item_Type_Meat                     0\n",
       "Item_Type_Others                   0\n",
       "Item_Type_Seafood                  0\n",
       "Item_Type_Snack Foods              0\n",
       "Item_Type_Soft Drinks              0\n",
       "Item_Type_Starchy Foods            0\n",
       "Outlet_Establishment_Year_1987     0\n",
       "Outlet_Establishment_Year_1997     0\n",
       "Outlet_Establishment_Year_1998     0\n",
       "Outlet_Establishment_Year_1999     0\n",
       "Outlet_Establishment_Year_2002     0\n",
       "Outlet_Establishment_Year_2004     0\n",
       "Item_MRP                           0\n",
       "dtype: int64"
      ]
     },
     "execution_count": 106,
     "metadata": {},
     "output_type": "execute_result"
    }
   ],
   "source": [
    "final.isnull().sum().sort_values(ascending = False)"
   ]
  },
  {
   "cell_type": "code",
   "execution_count": 107,
   "metadata": {},
   "outputs": [
    {
     "data": {
      "text/plain": [
       "Index(['Item_MRP', 'Item_Outlet_Sales', 'intercept', 'Outlet_Size_Medium',\n",
       "       'Outlet_Size_Small', 'Outlet_Location_Type_Tier 2',\n",
       "       'Outlet_Location_Type_Tier 3', 'Outlet_Type_Supermarket Type1',\n",
       "       'Outlet_Type_Supermarket Type2', 'Outlet_Type_Supermarket Type3',\n",
       "       'Item_Type_Breads', 'Item_Type_Breakfast', 'Item_Type_Canned',\n",
       "       'Item_Type_Dairy', 'Item_Type_Frozen Foods',\n",
       "       'Item_Type_Fruits and Vegetables', 'Item_Type_Hard Drinks',\n",
       "       'Item_Type_Health and Hygiene', 'Item_Type_Household', 'Item_Type_Meat',\n",
       "       'Item_Type_Others', 'Item_Type_Seafood', 'Item_Type_Snack Foods',\n",
       "       'Item_Type_Soft Drinks', 'Item_Type_Starchy Foods',\n",
       "       'Outlet_Establishment_Year_1987', 'Outlet_Establishment_Year_1997',\n",
       "       'Outlet_Establishment_Year_1998', 'Outlet_Establishment_Year_1999',\n",
       "       'Outlet_Establishment_Year_2002', 'Outlet_Establishment_Year_2004',\n",
       "       'Outlet_Establishment_Year_2007', 'Outlet_Establishment_Year_2009'],\n",
       "      dtype='object')"
      ]
     },
     "execution_count": 107,
     "metadata": {},
     "output_type": "execute_result"
    }
   ],
   "source": [
    "final.columns"
   ]
  },
  {
   "cell_type": "code",
   "execution_count": 108,
   "metadata": {},
   "outputs": [
    {
     "data": {
      "text/html": [
       "<div>\n",
       "<style>\n",
       "    .dataframe thead tr:only-child th {\n",
       "        text-align: right;\n",
       "    }\n",
       "\n",
       "    .dataframe thead th {\n",
       "        text-align: left;\n",
       "    }\n",
       "\n",
       "    .dataframe tbody tr th {\n",
       "        vertical-align: top;\n",
       "    }\n",
       "</style>\n",
       "<table border=\"1\" class=\"dataframe\">\n",
       "  <thead>\n",
       "    <tr style=\"text-align: right;\">\n",
       "      <th></th>\n",
       "      <th>Item_MRP</th>\n",
       "      <th>Item_Outlet_Sales</th>\n",
       "      <th>intercept</th>\n",
       "      <th>Outlet_Size_Medium</th>\n",
       "      <th>Outlet_Size_Small</th>\n",
       "      <th>Outlet_Location_Type_Tier 2</th>\n",
       "      <th>Outlet_Location_Type_Tier 3</th>\n",
       "      <th>Outlet_Type_Supermarket Type1</th>\n",
       "      <th>Outlet_Type_Supermarket Type2</th>\n",
       "      <th>Outlet_Type_Supermarket Type3</th>\n",
       "      <th>...</th>\n",
       "      <th>Item_Type_Soft Drinks</th>\n",
       "      <th>Item_Type_Starchy Foods</th>\n",
       "      <th>Outlet_Establishment_Year_1987</th>\n",
       "      <th>Outlet_Establishment_Year_1997</th>\n",
       "      <th>Outlet_Establishment_Year_1998</th>\n",
       "      <th>Outlet_Establishment_Year_1999</th>\n",
       "      <th>Outlet_Establishment_Year_2002</th>\n",
       "      <th>Outlet_Establishment_Year_2004</th>\n",
       "      <th>Outlet_Establishment_Year_2007</th>\n",
       "      <th>Outlet_Establishment_Year_2009</th>\n",
       "    </tr>\n",
       "  </thead>\n",
       "  <tbody>\n",
       "    <tr>\n",
       "      <th>4532</th>\n",
       "      <td>41.0480</td>\n",
       "      <td>479.3760</td>\n",
       "      <td>113.193135</td>\n",
       "      <td>0</td>\n",
       "      <td>1</td>\n",
       "      <td>1</td>\n",
       "      <td>0</td>\n",
       "      <td>1</td>\n",
       "      <td>0</td>\n",
       "      <td>0</td>\n",
       "      <td>...</td>\n",
       "      <td>0</td>\n",
       "      <td>0</td>\n",
       "      <td>0</td>\n",
       "      <td>0</td>\n",
       "      <td>0</td>\n",
       "      <td>0</td>\n",
       "      <td>0</td>\n",
       "      <td>1</td>\n",
       "      <td>0</td>\n",
       "      <td>0</td>\n",
       "    </tr>\n",
       "    <tr>\n",
       "      <th>186</th>\n",
       "      <td>165.7526</td>\n",
       "      <td>657.8104</td>\n",
       "      <td>113.193135</td>\n",
       "      <td>0</td>\n",
       "      <td>1</td>\n",
       "      <td>0</td>\n",
       "      <td>0</td>\n",
       "      <td>0</td>\n",
       "      <td>0</td>\n",
       "      <td>0</td>\n",
       "      <td>...</td>\n",
       "      <td>0</td>\n",
       "      <td>0</td>\n",
       "      <td>0</td>\n",
       "      <td>0</td>\n",
       "      <td>0</td>\n",
       "      <td>0</td>\n",
       "      <td>0</td>\n",
       "      <td>0</td>\n",
       "      <td>0</td>\n",
       "      <td>0</td>\n",
       "    </tr>\n",
       "    <tr>\n",
       "      <th>7557</th>\n",
       "      <td>190.4188</td>\n",
       "      <td>952.0940</td>\n",
       "      <td>113.193135</td>\n",
       "      <td>1</td>\n",
       "      <td>0</td>\n",
       "      <td>0</td>\n",
       "      <td>0</td>\n",
       "      <td>1</td>\n",
       "      <td>0</td>\n",
       "      <td>0</td>\n",
       "      <td>...</td>\n",
       "      <td>1</td>\n",
       "      <td>0</td>\n",
       "      <td>0</td>\n",
       "      <td>0</td>\n",
       "      <td>0</td>\n",
       "      <td>1</td>\n",
       "      <td>0</td>\n",
       "      <td>0</td>\n",
       "      <td>0</td>\n",
       "      <td>0</td>\n",
       "    </tr>\n",
       "    <tr>\n",
       "      <th>6308</th>\n",
       "      <td>230.0668</td>\n",
       "      <td>691.1004</td>\n",
       "      <td>113.193135</td>\n",
       "      <td>0</td>\n",
       "      <td>1</td>\n",
       "      <td>0</td>\n",
       "      <td>0</td>\n",
       "      <td>0</td>\n",
       "      <td>0</td>\n",
       "      <td>0</td>\n",
       "      <td>...</td>\n",
       "      <td>0</td>\n",
       "      <td>0</td>\n",
       "      <td>0</td>\n",
       "      <td>0</td>\n",
       "      <td>0</td>\n",
       "      <td>0</td>\n",
       "      <td>0</td>\n",
       "      <td>0</td>\n",
       "      <td>0</td>\n",
       "      <td>0</td>\n",
       "    </tr>\n",
       "  </tbody>\n",
       "</table>\n",
       "<p>4 rows × 33 columns</p>\n",
       "</div>"
      ],
      "text/plain": [
       "      Item_MRP  Item_Outlet_Sales   intercept  Outlet_Size_Medium  \\\n",
       "4532   41.0480           479.3760  113.193135                   0   \n",
       "186   165.7526           657.8104  113.193135                   0   \n",
       "7557  190.4188           952.0940  113.193135                   1   \n",
       "6308  230.0668           691.1004  113.193135                   0   \n",
       "\n",
       "      Outlet_Size_Small  Outlet_Location_Type_Tier 2  \\\n",
       "4532                  1                            1   \n",
       "186                   1                            0   \n",
       "7557                  0                            0   \n",
       "6308                  1                            0   \n",
       "\n",
       "      Outlet_Location_Type_Tier 3  Outlet_Type_Supermarket Type1  \\\n",
       "4532                            0                              1   \n",
       "186                             0                              0   \n",
       "7557                            0                              1   \n",
       "6308                            0                              0   \n",
       "\n",
       "      Outlet_Type_Supermarket Type2  Outlet_Type_Supermarket Type3  \\\n",
       "4532                              0                              0   \n",
       "186                               0                              0   \n",
       "7557                              0                              0   \n",
       "6308                              0                              0   \n",
       "\n",
       "                   ...                Item_Type_Soft Drinks  \\\n",
       "4532               ...                                    0   \n",
       "186                ...                                    0   \n",
       "7557               ...                                    1   \n",
       "6308               ...                                    0   \n",
       "\n",
       "      Item_Type_Starchy Foods  Outlet_Establishment_Year_1987  \\\n",
       "4532                        0                               0   \n",
       "186                         0                               0   \n",
       "7557                        0                               0   \n",
       "6308                        0                               0   \n",
       "\n",
       "      Outlet_Establishment_Year_1997  Outlet_Establishment_Year_1998  \\\n",
       "4532                               0                               0   \n",
       "186                                0                               0   \n",
       "7557                               0                               0   \n",
       "6308                               0                               0   \n",
       "\n",
       "      Outlet_Establishment_Year_1999  Outlet_Establishment_Year_2002  \\\n",
       "4532                               0                               0   \n",
       "186                                0                               0   \n",
       "7557                               1                               0   \n",
       "6308                               0                               0   \n",
       "\n",
       "      Outlet_Establishment_Year_2004  Outlet_Establishment_Year_2007  \\\n",
       "4532                               1                               0   \n",
       "186                                0                               0   \n",
       "7557                               0                               0   \n",
       "6308                               0                               0   \n",
       "\n",
       "      Outlet_Establishment_Year_2009  \n",
       "4532                               0  \n",
       "186                                0  \n",
       "7557                               0  \n",
       "6308                               0  \n",
       "\n",
       "[4 rows x 33 columns]"
      ]
     },
     "execution_count": 108,
     "metadata": {},
     "output_type": "execute_result"
    }
   ],
   "source": [
    "Final = final.sample(n = 4260, random_state = 123)\n",
    "Final.head(4)"
   ]
  },
  {
   "cell_type": "code",
   "execution_count": 109,
   "metadata": {},
   "outputs": [],
   "source": [
    "Final1x = Final.drop(['Item_Outlet_Sales'], axis= 1)\n",
    "Final1y = Final.Item_Outlet_Sales"
   ]
  },
  {
   "cell_type": "code",
   "execution_count": 110,
   "metadata": {},
   "outputs": [
    {
     "name": "stdout",
     "output_type": "stream",
     "text": [
      "<class 'pandas.core.frame.DataFrame'>\n",
      "Int64Index: 4263 entries, 0 to 8522\n",
      "Data columns (total 33 columns):\n",
      "Item_MRP                           4263 non-null float64\n",
      "Item_Outlet_Sales                  4263 non-null float64\n",
      "intercept                          4263 non-null float64\n",
      "Outlet_Size_Medium                 4263 non-null uint8\n",
      "Outlet_Size_Small                  4263 non-null uint8\n",
      "Outlet_Location_Type_Tier 2        4263 non-null uint8\n",
      "Outlet_Location_Type_Tier 3        4263 non-null uint8\n",
      "Outlet_Type_Supermarket Type1      4263 non-null uint8\n",
      "Outlet_Type_Supermarket Type2      4263 non-null uint8\n",
      "Outlet_Type_Supermarket Type3      4263 non-null uint8\n",
      "Item_Type_Breads                   4263 non-null uint8\n",
      "Item_Type_Breakfast                4263 non-null uint8\n",
      "Item_Type_Canned                   4263 non-null uint8\n",
      "Item_Type_Dairy                    4263 non-null uint8\n",
      "Item_Type_Frozen Foods             4263 non-null uint8\n",
      "Item_Type_Fruits and Vegetables    4263 non-null uint8\n",
      "Item_Type_Hard Drinks              4263 non-null uint8\n",
      "Item_Type_Health and Hygiene       4263 non-null uint8\n",
      "Item_Type_Household                4263 non-null uint8\n",
      "Item_Type_Meat                     4263 non-null uint8\n",
      "Item_Type_Others                   4263 non-null uint8\n",
      "Item_Type_Seafood                  4263 non-null uint8\n",
      "Item_Type_Snack Foods              4263 non-null uint8\n",
      "Item_Type_Soft Drinks              4263 non-null uint8\n",
      "Item_Type_Starchy Foods            4263 non-null uint8\n",
      "Outlet_Establishment_Year_1987     4263 non-null uint8\n",
      "Outlet_Establishment_Year_1997     4263 non-null uint8\n",
      "Outlet_Establishment_Year_1998     4263 non-null uint8\n",
      "Outlet_Establishment_Year_1999     4263 non-null uint8\n",
      "Outlet_Establishment_Year_2002     4263 non-null uint8\n",
      "Outlet_Establishment_Year_2004     4263 non-null uint8\n",
      "Outlet_Establishment_Year_2007     4263 non-null uint8\n",
      "Outlet_Establishment_Year_2009     4263 non-null uint8\n",
      "dtypes: float64(3), uint8(30)\n",
      "memory usage: 258.1 KB\n"
     ]
    }
   ],
   "source": [
    "Final2 = final.drop(Final.index)\n",
    "Final2.info()"
   ]
  },
  {
   "cell_type": "code",
   "execution_count": 111,
   "metadata": {},
   "outputs": [],
   "source": [
    "Final2x = Final2.drop(['Item_Outlet_Sales'], axis= 1)\n",
    "Final2y = Final2.Item_Outlet_Sales"
   ]
  },
  {
   "cell_type": "code",
   "execution_count": 112,
   "metadata": {},
   "outputs": [],
   "source": [
    "from sklearn.cross_validation import train_test_split\n",
    "X_train, X_test, Y_train, Y_test = train_test_split(\n",
    "        Final1x,\n",
    "        Final1y,\n",
    "        test_size=0.20,\n",
    "        random_state=123)"
   ]
  },
  {
   "cell_type": "code",
   "execution_count": 113,
   "metadata": {},
   "outputs": [
    {
     "name": "stdout",
     "output_type": "stream",
     "text": [
      "3408 852\n"
     ]
    }
   ],
   "source": [
    "print (len(X_train), len(X_test))"
   ]
  },
  {
   "cell_type": "code",
   "execution_count": 114,
   "metadata": {},
   "outputs": [
    {
     "data": {
      "text/plain": [
       "LinearRegression(copy_X=True, fit_intercept=True, n_jobs=1, normalize=False)"
      ]
     },
     "execution_count": 114,
     "metadata": {},
     "output_type": "execute_result"
    }
   ],
   "source": [
    "from sklearn.linear_model import LinearRegression\n",
    "linreg = LinearRegression()\n",
    "linreg.fit(X_train, Y_train)"
   ]
  },
  {
   "cell_type": "code",
   "execution_count": 115,
   "metadata": {},
   "outputs": [],
   "source": [
    "X_train, X_test, Y_train, Y_test = train_test_split(\n",
    "        Final2x,\n",
    "        Final2y,\n",
    "        test_size=0.20,\n",
    "        random_state=123)"
   ]
  },
  {
   "cell_type": "code",
   "execution_count": 116,
   "metadata": {},
   "outputs": [],
   "source": [
    "y_pred = linreg.predict(X_test)\n"
   ]
  },
  {
   "cell_type": "code",
   "execution_count": 117,
   "metadata": {},
   "outputs": [
    {
     "name": "stdout",
     "output_type": "stream",
     "text": [
      "2133.44665885\n"
     ]
    }
   ],
   "source": [
    "print(y_pred.mean())"
   ]
  },
  {
   "cell_type": "code",
   "execution_count": 118,
   "metadata": {},
   "outputs": [
    {
     "data": {
      "text/plain": [
       "0.57619776619563834"
      ]
     },
     "execution_count": 118,
     "metadata": {},
     "output_type": "execute_result"
    }
   ],
   "source": [
    "from sklearn import metrics\n",
    "metrics.r2_score(Y_test, y_pred)"
   ]
  },
  {
   "cell_type": "code",
   "execution_count": 119,
   "metadata": {},
   "outputs": [
    {
     "data": {
      "text/plain": [
       "<matplotlib.axes._subplots.AxesSubplot at 0x238e9f6b5c0>"
      ]
     },
     "execution_count": 119,
     "metadata": {},
     "output_type": "execute_result"
    },
    {
     "data": {
      "image/png": "[encoded data removed]",
      "text/plain": [
       "<matplotlib.figure.Figure at 0x238e9e82d30>"
      ]
     },
     "metadata": {},
     "output_type": "display_data"
    }
   ],
   "source": [
    "Residuals = Y_test - y_pred\n",
    "sns.distplot(Residuals)"
   ]
  },
  {
   "cell_type": "code",
   "execution_count": null,
   "metadata": {
    "collapsed": true
   },
   "outputs": [],
   "source": [
    "#there is an assumption that residuals must be normally distributed and we successfully achieved that"
   ]
  },
  {
   "cell_type": "code",
   "execution_count": 120,
   "metadata": {},
   "outputs": [
    {
     "data": {
      "text/plain": [
       "989.25601944538994"
      ]
     },
     "execution_count": 120,
     "metadata": {},
     "output_type": "execute_result"
    }
   ],
   "source": [
    "rmse = np.sqrt(metrics.mean_squared_error(Y_test, y_pred))\n",
    "rmse"
   ]
  },
  {
   "cell_type": "markdown",
   "metadata": {},
   "source": [
    "# NOW lets do preprocessing for test data also"
   ]
  },
  {
   "cell_type": "code",
   "execution_count": 121,
   "metadata": {},
   "outputs": [
    {
     "data": {
      "text/html": [
       "<div>\n",
       "<style>\n",
       "    .dataframe thead tr:only-child th {\n",
       "        text-align: right;\n",
       "    }\n",
       "\n",
       "    .dataframe thead th {\n",
       "        text-align: left;\n",
       "    }\n",
       "\n",
       "    .dataframe tbody tr th {\n",
       "        vertical-align: top;\n",
       "    }\n",
       "</style>\n",
       "<table border=\"1\" class=\"dataframe\">\n",
       "  <thead>\n",
       "    <tr style=\"text-align: right;\">\n",
       "      <th></th>\n",
       "      <th>Item_Identifier</th>\n",
       "      <th>Item_Weight</th>\n",
       "      <th>Item_Fat_Content</th>\n",
       "      <th>Item_Visibility</th>\n",
       "      <th>Item_Type</th>\n",
       "      <th>Item_MRP</th>\n",
       "      <th>Outlet_Identifier</th>\n",
       "      <th>Outlet_Establishment_Year</th>\n",
       "      <th>Outlet_Size</th>\n",
       "      <th>Outlet_Location_Type</th>\n",
       "      <th>Outlet_Type</th>\n",
       "    </tr>\n",
       "  </thead>\n",
       "  <tbody>\n",
       "    <tr>\n",
       "      <th>0</th>\n",
       "      <td>FDW58</td>\n",
       "      <td>20.750</td>\n",
       "      <td>Low Fat</td>\n",
       "      <td>0.007565</td>\n",
       "      <td>Snack Foods</td>\n",
       "      <td>107.8622</td>\n",
       "      <td>OUT049</td>\n",
       "      <td>1999</td>\n",
       "      <td>Medium</td>\n",
       "      <td>Tier 1</td>\n",
       "      <td>Supermarket Type1</td>\n",
       "    </tr>\n",
       "    <tr>\n",
       "      <th>1</th>\n",
       "      <td>FDW14</td>\n",
       "      <td>8.300</td>\n",
       "      <td>reg</td>\n",
       "      <td>0.038428</td>\n",
       "      <td>Dairy</td>\n",
       "      <td>87.3198</td>\n",
       "      <td>OUT017</td>\n",
       "      <td>2007</td>\n",
       "      <td>NaN</td>\n",
       "      <td>Tier 2</td>\n",
       "      <td>Supermarket Type1</td>\n",
       "    </tr>\n",
       "    <tr>\n",
       "      <th>2</th>\n",
       "      <td>NCN55</td>\n",
       "      <td>14.600</td>\n",
       "      <td>Low Fat</td>\n",
       "      <td>0.099575</td>\n",
       "      <td>Others</td>\n",
       "      <td>241.7538</td>\n",
       "      <td>OUT010</td>\n",
       "      <td>1998</td>\n",
       "      <td>NaN</td>\n",
       "      <td>Tier 3</td>\n",
       "      <td>Grocery Store</td>\n",
       "    </tr>\n",
       "    <tr>\n",
       "      <th>3</th>\n",
       "      <td>FDQ58</td>\n",
       "      <td>7.315</td>\n",
       "      <td>Low Fat</td>\n",
       "      <td>0.015388</td>\n",
       "      <td>Snack Foods</td>\n",
       "      <td>155.0340</td>\n",
       "      <td>OUT017</td>\n",
       "      <td>2007</td>\n",
       "      <td>NaN</td>\n",
       "      <td>Tier 2</td>\n",
       "      <td>Supermarket Type1</td>\n",
       "    </tr>\n",
       "    <tr>\n",
       "      <th>4</th>\n",
       "      <td>FDY38</td>\n",
       "      <td>NaN</td>\n",
       "      <td>Regular</td>\n",
       "      <td>0.118599</td>\n",
       "      <td>Dairy</td>\n",
       "      <td>234.2300</td>\n",
       "      <td>OUT027</td>\n",
       "      <td>1985</td>\n",
       "      <td>Medium</td>\n",
       "      <td>Tier 3</td>\n",
       "      <td>Supermarket Type3</td>\n",
       "    </tr>\n",
       "  </tbody>\n",
       "</table>\n",
       "</div>"
      ],
      "text/plain": [
       "  Item_Identifier  Item_Weight Item_Fat_Content  Item_Visibility    Item_Type  \\\n",
       "0           FDW58       20.750          Low Fat         0.007565  Snack Foods   \n",
       "1           FDW14        8.300              reg         0.038428        Dairy   \n",
       "2           NCN55       14.600          Low Fat         0.099575       Others   \n",
       "3           FDQ58        7.315          Low Fat         0.015388  Snack Foods   \n",
       "4           FDY38          NaN          Regular         0.118599        Dairy   \n",
       "\n",
       "   Item_MRP Outlet_Identifier  Outlet_Establishment_Year Outlet_Size  \\\n",
       "0  107.8622            OUT049                       1999      Medium   \n",
       "1   87.3198            OUT017                       2007         NaN   \n",
       "2  241.7538            OUT010                       1998         NaN   \n",
       "3  155.0340            OUT017                       2007         NaN   \n",
       "4  234.2300            OUT027                       1985      Medium   \n",
       "\n",
       "  Outlet_Location_Type        Outlet_Type  \n",
       "0               Tier 1  Supermarket Type1  \n",
       "1               Tier 2  Supermarket Type1  \n",
       "2               Tier 3      Grocery Store  \n",
       "3               Tier 2  Supermarket Type1  \n",
       "4               Tier 3  Supermarket Type3  "
      ]
     },
     "execution_count": 121,
     "metadata": {},
     "output_type": "execute_result"
    }
   ],
   "source": [
    "Test.head()"
   ]
  },
  {
   "cell_type": "code",
   "execution_count": 122,
   "metadata": {},
   "outputs": [
    {
     "data": {
      "text/plain": [
       "Outlet_Size                  1606\n",
       "Item_Weight                   976\n",
       "Outlet_Type                     0\n",
       "Outlet_Location_Type            0\n",
       "Outlet_Establishment_Year       0\n",
       "Outlet_Identifier               0\n",
       "Item_MRP                        0\n",
       "Item_Type                       0\n",
       "Item_Visibility                 0\n",
       "Item_Fat_Content                0\n",
       "Item_Identifier                 0\n",
       "dtype: int64"
      ]
     },
     "execution_count": 122,
     "metadata": {},
     "output_type": "execute_result"
    }
   ],
   "source": [
    "Test.isnull().sum().sort_values(ascending= False)"
   ]
  },
  {
   "cell_type": "code",
   "execution_count": 123,
   "metadata": {},
   "outputs": [
    {
     "name": "stdout",
     "output_type": "stream",
     "text": [
      "<class 'pandas.core.frame.DataFrame'>\n",
      "RangeIndex: 5681 entries, 0 to 5680\n",
      "Data columns (total 11 columns):\n",
      "Item_Identifier              5681 non-null object\n",
      "Item_Weight                  4705 non-null float64\n",
      "Item_Fat_Content             5681 non-null object\n",
      "Item_Visibility              5681 non-null float64\n",
      "Item_Type                    5681 non-null object\n",
      "Item_MRP                     5681 non-null float64\n",
      "Outlet_Identifier            5681 non-null object\n",
      "Outlet_Establishment_Year    5681 non-null int64\n",
      "Outlet_Size                  4075 non-null object\n",
      "Outlet_Location_Type         5681 non-null object\n",
      "Outlet_Type                  5681 non-null object\n",
      "dtypes: float64(3), int64(1), object(7)\n",
      "memory usage: 488.3+ KB\n"
     ]
    }
   ],
   "source": [
    "Test.info()"
   ]
  },
  {
   "cell_type": "code",
   "execution_count": 124,
   "metadata": {},
   "outputs": [
    {
     "data": {
      "text/plain": [
       "Medium    1862\n",
       "Small     1592\n",
       "High       621\n",
       "Name: Outlet_Size, dtype: int64"
      ]
     },
     "execution_count": 124,
     "metadata": {},
     "output_type": "execute_result"
    }
   ],
   "source": [
    "Test.Outlet_Size.value_counts()"
   ]
  },
  {
   "cell_type": "code",
   "execution_count": 125,
   "metadata": {
    "collapsed": true
   },
   "outputs": [],
   "source": [
    "#So filling the missing values with medium\n",
    "Test[\"Outlet_Size\"] = Test[\"Outlet_Size\"].fillna('Medium')"
   ]
  },
  {
   "cell_type": "code",
   "execution_count": 126,
   "metadata": {
    "collapsed": true
   },
   "outputs": [],
   "source": [
    "#Item weight should be filled with mean since it a continuous value\n",
    "Test['Item_Weight']=Test['Item_Weight'].fillna(Train['Item_Weight'].mean())"
   ]
  },
  {
   "cell_type": "code",
   "execution_count": 127,
   "metadata": {},
   "outputs": [
    {
     "data": {
      "text/plain": [
       "False"
      ]
     },
     "execution_count": 127,
     "metadata": {},
     "output_type": "execute_result"
    }
   ],
   "source": [
    "Test.isnull().sum().any()"
   ]
  },
  {
   "cell_type": "code",
   "execution_count": 128,
   "metadata": {},
   "outputs": [
    {
     "data": {
      "text/html": [
       "<div>\n",
       "<style>\n",
       "    .dataframe thead tr:only-child th {\n",
       "        text-align: right;\n",
       "    }\n",
       "\n",
       "    .dataframe thead th {\n",
       "        text-align: left;\n",
       "    }\n",
       "\n",
       "    .dataframe tbody tr th {\n",
       "        vertical-align: top;\n",
       "    }\n",
       "</style>\n",
       "<table border=\"1\" class=\"dataframe\">\n",
       "  <thead>\n",
       "    <tr style=\"text-align: right;\">\n",
       "      <th></th>\n",
       "      <th>Item_Weight</th>\n",
       "      <th>Item_Visibility</th>\n",
       "      <th>Item_MRP</th>\n",
       "      <th>Outlet_Establishment_Year</th>\n",
       "    </tr>\n",
       "  </thead>\n",
       "  <tbody>\n",
       "    <tr>\n",
       "      <th>0</th>\n",
       "      <td>20.750000</td>\n",
       "      <td>0.007565</td>\n",
       "      <td>107.8622</td>\n",
       "      <td>1999</td>\n",
       "    </tr>\n",
       "    <tr>\n",
       "      <th>1</th>\n",
       "      <td>8.300000</td>\n",
       "      <td>0.038428</td>\n",
       "      <td>87.3198</td>\n",
       "      <td>2007</td>\n",
       "    </tr>\n",
       "    <tr>\n",
       "      <th>2</th>\n",
       "      <td>14.600000</td>\n",
       "      <td>0.099575</td>\n",
       "      <td>241.7538</td>\n",
       "      <td>1998</td>\n",
       "    </tr>\n",
       "    <tr>\n",
       "      <th>3</th>\n",
       "      <td>7.315000</td>\n",
       "      <td>0.015388</td>\n",
       "      <td>155.0340</td>\n",
       "      <td>2007</td>\n",
       "    </tr>\n",
       "    <tr>\n",
       "      <th>4</th>\n",
       "      <td>12.857645</td>\n",
       "      <td>0.118599</td>\n",
       "      <td>234.2300</td>\n",
       "      <td>1985</td>\n",
       "    </tr>\n",
       "  </tbody>\n",
       "</table>\n",
       "</div>"
      ],
      "text/plain": [
       "   Item_Weight  Item_Visibility  Item_MRP  Outlet_Establishment_Year\n",
       "0    20.750000         0.007565  107.8622                       1999\n",
       "1     8.300000         0.038428   87.3198                       2007\n",
       "2    14.600000         0.099575  241.7538                       1998\n",
       "3     7.315000         0.015388  155.0340                       2007\n",
       "4    12.857645         0.118599  234.2300                       1985"
      ]
     },
     "execution_count": 128,
     "metadata": {},
     "output_type": "execute_result"
    }
   ],
   "source": [
    "num_data = Test._get_numeric_data()\n",
    "num_data.head()"
   ]
  },
  {
   "cell_type": "code",
   "execution_count": 129,
   "metadata": {
    "collapsed": true
   },
   "outputs": [],
   "source": [
    "Test.Outlet_Establishment_Year = pd.Categorical(Test.Outlet_Establishment_Year)"
   ]
  },
  {
   "cell_type": "code",
   "execution_count": 130,
   "metadata": {},
   "outputs": [
    {
     "data": {
      "text/html": [
       "<div>\n",
       "<style>\n",
       "    .dataframe thead tr:only-child th {\n",
       "        text-align: right;\n",
       "    }\n",
       "\n",
       "    .dataframe thead th {\n",
       "        text-align: left;\n",
       "    }\n",
       "\n",
       "    .dataframe tbody tr th {\n",
       "        vertical-align: top;\n",
       "    }\n",
       "</style>\n",
       "<table border=\"1\" class=\"dataframe\">\n",
       "  <thead>\n",
       "    <tr style=\"text-align: right;\">\n",
       "      <th></th>\n",
       "      <th>MEAN</th>\n",
       "      <th>MEDIAN</th>\n",
       "      <th>MIN</th>\n",
       "      <th>P1</th>\n",
       "      <th>P5</th>\n",
       "      <th>P10</th>\n",
       "      <th>P25</th>\n",
       "      <th>P50</th>\n",
       "      <th>P75</th>\n",
       "      <th>P90</th>\n",
       "      <th>P95</th>\n",
       "      <th>P99</th>\n",
       "      <th>MAX</th>\n",
       "    </tr>\n",
       "  </thead>\n",
       "  <tbody>\n",
       "    <tr>\n",
       "      <th>Item_Weight</th>\n",
       "      <td>12.72</td>\n",
       "      <td>12.86</td>\n",
       "      <td>4.56</td>\n",
       "      <td>5.17</td>\n",
       "      <td>6.12</td>\n",
       "      <td>6.83</td>\n",
       "      <td>9.20</td>\n",
       "      <td>12.86</td>\n",
       "      <td>15.85</td>\n",
       "      <td>19.00</td>\n",
       "      <td>20.10</td>\n",
       "      <td>20.85</td>\n",
       "      <td>21.35</td>\n",
       "    </tr>\n",
       "    <tr>\n",
       "      <th>Item_Visibility</th>\n",
       "      <td>0.07</td>\n",
       "      <td>0.05</td>\n",
       "      <td>0.00</td>\n",
       "      <td>0.00</td>\n",
       "      <td>0.00</td>\n",
       "      <td>0.01</td>\n",
       "      <td>0.03</td>\n",
       "      <td>0.05</td>\n",
       "      <td>0.09</td>\n",
       "      <td>0.14</td>\n",
       "      <td>0.16</td>\n",
       "      <td>0.24</td>\n",
       "      <td>0.32</td>\n",
       "    </tr>\n",
       "    <tr>\n",
       "      <th>Item_MRP</th>\n",
       "      <td>141.02</td>\n",
       "      <td>141.42</td>\n",
       "      <td>31.99</td>\n",
       "      <td>35.61</td>\n",
       "      <td>43.28</td>\n",
       "      <td>53.86</td>\n",
       "      <td>94.41</td>\n",
       "      <td>141.42</td>\n",
       "      <td>186.03</td>\n",
       "      <td>231.04</td>\n",
       "      <td>248.64</td>\n",
       "      <td>261.83</td>\n",
       "      <td>266.59</td>\n",
       "    </tr>\n",
       "    <tr>\n",
       "      <th>Outlet_Establishment_Year</th>\n",
       "      <td>1997.83</td>\n",
       "      <td>1999.00</td>\n",
       "      <td>1985.00</td>\n",
       "      <td>1985.00</td>\n",
       "      <td>1985.00</td>\n",
       "      <td>1985.00</td>\n",
       "      <td>1987.00</td>\n",
       "      <td>1999.00</td>\n",
       "      <td>2004.00</td>\n",
       "      <td>2009.00</td>\n",
       "      <td>2009.00</td>\n",
       "      <td>2009.00</td>\n",
       "      <td>2009.00</td>\n",
       "    </tr>\n",
       "  </tbody>\n",
       "</table>\n",
       "</div>"
      ],
      "text/plain": [
       "                              MEAN   MEDIAN      MIN       P1       P5  \\\n",
       "Item_Weight                  12.72    12.86     4.56     5.17     6.12   \n",
       "Item_Visibility               0.07     0.05     0.00     0.00     0.00   \n",
       "Item_MRP                    141.02   141.42    31.99    35.61    43.28   \n",
       "Outlet_Establishment_Year  1997.83  1999.00  1985.00  1985.00  1985.00   \n",
       "\n",
       "                               P10      P25      P50      P75      P90  \\\n",
       "Item_Weight                   6.83     9.20    12.86    15.85    19.00   \n",
       "Item_Visibility               0.01     0.03     0.05     0.09     0.14   \n",
       "Item_MRP                     53.86    94.41   141.42   186.03   231.04   \n",
       "Outlet_Establishment_Year  1985.00  1987.00  1999.00  2004.00  2009.00   \n",
       "\n",
       "                               P95      P99      MAX  \n",
       "Item_Weight                  20.10    20.85    21.35  \n",
       "Item_Visibility               0.16     0.24     0.32  \n",
       "Item_MRP                    248.64   261.83   266.59  \n",
       "Outlet_Establishment_Year  2009.00  2009.00  2009.00  "
      ]
     },
     "execution_count": 130,
     "metadata": {},
     "output_type": "execute_result"
    }
   ],
   "source": [
    "# Writing a function to find percentiles, min and max values of the attributes\n",
    "def var_summary(x):\n",
    "    return pd.Series([round(x.mean(),2), round(x.median(),2), round(x.min(),2), round(x.quantile(0.01),2), round(x.quantile(0.05),2), round(x.quantile(0.10),2),round(x.quantile(0.25),2),round(x.quantile(0.50),2),round(x.quantile(0.75),2), round(x.quantile(0.90),2),round(x.quantile(0.95),2),round(x.quantile(0.99),2),round(x.max(),2)], \n",
    "                  index=['MEAN','MEDIAN', 'MIN', 'P1' , 'P5' ,'P10' ,'P25' ,'P50' ,'P75' ,'P90' ,'P95' ,'P99' ,'MAX'])\n",
    "\n",
    "#applying the above method to all numeric data\n",
    "num_data.apply(lambda x: var_summary(x)).T"
   ]
  },
  {
   "cell_type": "code",
   "execution_count": 131,
   "metadata": {},
   "outputs": [],
   "source": [
    "num_colss = num_data.drop(['Item_Weight',\"Item_Visibility\",'Outlet_Establishment_Year'],axis=1)\n"
   ]
  },
  {
   "cell_type": "code",
   "execution_count": 132,
   "metadata": {},
   "outputs": [
    {
     "data": {
      "text/plain": [
       "Index(['Item_MRP'], dtype='object')"
      ]
     },
     "execution_count": 132,
     "metadata": {},
     "output_type": "execute_result"
    }
   ],
   "source": [
    "num_colss.columns"
   ]
  },
  {
   "cell_type": "code",
   "execution_count": 133,
   "metadata": {
    "collapsed": true
   },
   "outputs": [],
   "source": [
    "test_cat= num_colss"
   ]
  },
  {
   "cell_type": "code",
   "execution_count": 134,
   "metadata": {},
   "outputs": [
    {
     "data": {
      "text/plain": [
       "Index(['Item_Type', 'Outlet_Establishment_Year', 'Outlet_Size',\n",
       "       'Outlet_Location_Type', 'Outlet_Type'],\n",
       "      dtype='object')"
      ]
     },
     "execution_count": 134,
     "metadata": {},
     "output_type": "execute_result"
    }
   ],
   "source": [
    "cat_data = Test.drop(['Item_Identifier', 'Item_Weight', 'Item_Fat_Content', 'Item_Visibility',\n",
    "       'Item_MRP', 'Outlet_Identifier'],axis =1)\n",
    "cat_data.columns"
   ]
  },
  {
   "cell_type": "code",
   "execution_count": 135,
   "metadata": {},
   "outputs": [
    {
     "name": "stdout",
     "output_type": "stream",
     "text": [
      "<class 'pandas.core.frame.DataFrame'>\n",
      "RangeIndex: 5681 entries, 0 to 5680\n",
      "Data columns (total 5 columns):\n",
      "Item_Type                    5681 non-null object\n",
      "Outlet_Establishment_Year    5681 non-null category\n",
      "Outlet_Size                  5681 non-null object\n",
      "Outlet_Location_Type         5681 non-null object\n",
      "Outlet_Type                  5681 non-null object\n",
      "dtypes: category(1), object(4)\n",
      "memory usage: 183.5+ KB\n"
     ]
    }
   ],
   "source": [
    "cat_data.info()"
   ]
  },
  {
   "cell_type": "code",
   "execution_count": 137,
   "metadata": {
    "collapsed": true
   },
   "outputs": [],
   "source": [
    "all_dummies=pd.concat([Final_Cat_Cols,cat_data],axis=0)"
   ]
  },
  {
   "cell_type": "code",
   "execution_count": 138,
   "metadata": {
    "collapsed": true
   },
   "outputs": [],
   "source": [
    "#now lets do dummies\n",
    "dummies_concat =  pd.get_dummies(all_dummies, columns =['Outlet_Size', 'Outlet_Location_Type',\n",
    "       'Outlet_Type','Item_Type','Outlet_Establishment_Year'],drop_first =True)"
   ]
  },
  {
   "cell_type": "code",
   "execution_count": 139,
   "metadata": {
    "collapsed": true
   },
   "outputs": [],
   "source": [
    "tt = dummies_concat[0:8523:]\n",
    "test = dummies_concat[8524::]"
   ]
  },
  {
   "cell_type": "code",
   "execution_count": 140,
   "metadata": {},
   "outputs": [
    {
     "name": "stdout",
     "output_type": "stream",
     "text": [
      "<class 'pandas.core.frame.DataFrame'>\n",
      "Int64Index: 5680 entries, 1 to 5680\n",
      "Data columns (total 30 columns):\n",
      "Outlet_Size_Medium                 5680 non-null uint8\n",
      "Outlet_Size_Small                  5680 non-null uint8\n",
      "Outlet_Location_Type_Tier 2        5680 non-null uint8\n",
      "Outlet_Location_Type_Tier 3        5680 non-null uint8\n",
      "Outlet_Type_Supermarket Type1      5680 non-null uint8\n",
      "Outlet_Type_Supermarket Type2      5680 non-null uint8\n",
      "Outlet_Type_Supermarket Type3      5680 non-null uint8\n",
      "Item_Type_Breads                   5680 non-null uint8\n",
      "Item_Type_Breakfast                5680 non-null uint8\n",
      "Item_Type_Canned                   5680 non-null uint8\n",
      "Item_Type_Dairy                    5680 non-null uint8\n",
      "Item_Type_Frozen Foods             5680 non-null uint8\n",
      "Item_Type_Fruits and Vegetables    5680 non-null uint8\n",
      "Item_Type_Hard Drinks              5680 non-null uint8\n",
      "Item_Type_Health and Hygiene       5680 non-null uint8\n",
      "Item_Type_Household                5680 non-null uint8\n",
      "Item_Type_Meat                     5680 non-null uint8\n",
      "Item_Type_Others                   5680 non-null uint8\n",
      "Item_Type_Seafood                  5680 non-null uint8\n",
      "Item_Type_Snack Foods              5680 non-null uint8\n",
      "Item_Type_Soft Drinks              5680 non-null uint8\n",
      "Item_Type_Starchy Foods            5680 non-null uint8\n",
      "Outlet_Establishment_Year_1987     5680 non-null uint8\n",
      "Outlet_Establishment_Year_1997     5680 non-null uint8\n",
      "Outlet_Establishment_Year_1998     5680 non-null uint8\n",
      "Outlet_Establishment_Year_1999     5680 non-null uint8\n",
      "Outlet_Establishment_Year_2002     5680 non-null uint8\n",
      "Outlet_Establishment_Year_2004     5680 non-null uint8\n",
      "Outlet_Establishment_Year_2007     5680 non-null uint8\n",
      "Outlet_Establishment_Year_2009     5680 non-null uint8\n",
      "dtypes: uint8(30)\n",
      "memory usage: 210.8 KB\n"
     ]
    }
   ],
   "source": [
    "test.info()"
   ]
  },
  {
   "cell_type": "code",
   "execution_count": 141,
   "metadata": {},
   "outputs": [
    {
     "data": {
      "text/plain": [
       "Outlet_Establishment_Year_2009     0\n",
       "Outlet_Establishment_Year_2007     0\n",
       "Outlet_Size_Small                  0\n",
       "Outlet_Location_Type_Tier 2        0\n",
       "Outlet_Location_Type_Tier 3        0\n",
       "Outlet_Type_Supermarket Type1      0\n",
       "Outlet_Type_Supermarket Type2      0\n",
       "Outlet_Type_Supermarket Type3      0\n",
       "Item_Type_Breads                   0\n",
       "Item_Type_Breakfast                0\n",
       "Item_Type_Canned                   0\n",
       "Item_Type_Dairy                    0\n",
       "Item_Type_Frozen Foods             0\n",
       "Item_Type_Fruits and Vegetables    0\n",
       "Item_Type_Hard Drinks              0\n",
       "Item_Type_Health and Hygiene       0\n",
       "Item_Type_Household                0\n",
       "Item_Type_Meat                     0\n",
       "Item_Type_Others                   0\n",
       "Item_Type_Seafood                  0\n",
       "Item_Type_Snack Foods              0\n",
       "Item_Type_Soft Drinks              0\n",
       "Item_Type_Starchy Foods            0\n",
       "Outlet_Establishment_Year_1987     0\n",
       "Outlet_Establishment_Year_1997     0\n",
       "Outlet_Establishment_Year_1998     0\n",
       "Outlet_Establishment_Year_1999     0\n",
       "Outlet_Establishment_Year_2002     0\n",
       "Outlet_Establishment_Year_2004     0\n",
       "Outlet_Size_Medium                 0\n",
       "dtype: int64"
      ]
     },
     "execution_count": 141,
     "metadata": {},
     "output_type": "execute_result"
    }
   ],
   "source": [
    "test.isnull().sum().sort_values(ascending= False)"
   ]
  },
  {
   "cell_type": "code",
   "execution_count": 142,
   "metadata": {},
   "outputs": [
    {
     "data": {
      "text/plain": [
       "Index(['Item_MRP', 'Outlet_Size_Medium', 'Outlet_Size_Small',\n",
       "       'Outlet_Location_Type_Tier 2', 'Outlet_Location_Type_Tier 3',\n",
       "       'Outlet_Type_Supermarket Type1', 'Outlet_Type_Supermarket Type2',\n",
       "       'Outlet_Type_Supermarket Type3', 'Item_Type_Breads',\n",
       "       'Item_Type_Breakfast', 'Item_Type_Canned', 'Item_Type_Dairy',\n",
       "       'Item_Type_Frozen Foods', 'Item_Type_Fruits and Vegetables',\n",
       "       'Item_Type_Hard Drinks', 'Item_Type_Health and Hygiene',\n",
       "       'Item_Type_Household', 'Item_Type_Meat', 'Item_Type_Others',\n",
       "       'Item_Type_Seafood', 'Item_Type_Snack Foods', 'Item_Type_Soft Drinks',\n",
       "       'Item_Type_Starchy Foods', 'Outlet_Establishment_Year_1987',\n",
       "       'Outlet_Establishment_Year_1997', 'Outlet_Establishment_Year_1998',\n",
       "       'Outlet_Establishment_Year_1999', 'Outlet_Establishment_Year_2002',\n",
       "       'Outlet_Establishment_Year_2004', 'Outlet_Establishment_Year_2007',\n",
       "       'Outlet_Establishment_Year_2009'],\n",
       "      dtype='object')"
      ]
     },
     "execution_count": 142,
     "metadata": {},
     "output_type": "execute_result"
    }
   ],
   "source": [
    "#As we completed preprocessing for train now lets concat numaric and categorical attrebutes\n",
    "final1 = pd.concat([test_cat,test], axis =1)\n",
    "final1.columns"
   ]
  },
  {
   "cell_type": "markdown",
   "metadata": {},
   "source": [
    "# Lets do PCA for all the models"
   ]
  },
  {
   "cell_type": "code",
   "execution_count": 143,
   "metadata": {
    "collapsed": true
   },
   "outputs": [],
   "source": [
    "# To use PCA we need  missing values and outliers traetmeny dataset.So that we know important attributes to build all models"
   ]
  },
  {
   "cell_type": "code",
   "execution_count": 144,
   "metadata": {},
   "outputs": [],
   "source": [
    "bigmart = pd.concat([num_col,cat_col],axis = 1)"
   ]
  },
  {
   "cell_type": "code",
   "execution_count": 145,
   "metadata": {
    "collapsed": true
   },
   "outputs": [],
   "source": [
    "martsales =pd.get_dummies(bigmart)"
   ]
  },
  {
   "cell_type": "code",
   "execution_count": 147,
   "metadata": {
    "collapsed": true
   },
   "outputs": [],
   "source": [
    "from sklearn.preprocessing import StandardScaler\n",
    "from sklearn.decomposition import PCA"
   ]
  },
  {
   "cell_type": "code",
   "execution_count": 148,
   "metadata": {
    "collapsed": true
   },
   "outputs": [],
   "source": [
    "scaler = StandardScaler()\n",
    "scaler.fit(martsales)                \n",
    "train_t = scaler.transform(martsales)"
   ]
  },
  {
   "cell_type": "code",
   "execution_count": 149,
   "metadata": {
    "collapsed": true
   },
   "outputs": [],
   "source": [
    "x = martsales.drop(['Item_Outlet_Sales'],axis = 1)\n",
    "y = martsales.Item_Outlet_Sales"
   ]
  },
  {
   "cell_type": "code",
   "execution_count": 164,
   "metadata": {},
   "outputs": [
    {
     "name": "stdout",
     "output_type": "stream",
     "text": [
      "(8523, 1612) (8523, 1560)\n",
      "0.999999616553\n"
     ]
    }
   ],
   "source": [
    "pca_mart = PCA(0.9999996)\n",
    "X_fit = pca_mart.fit_transform(x)\n",
    "print (x.shape, X_fit.shape)\n",
    "print (np.sum(pca_mart.explained_variance_ratio_))"
   ]
  },
  {
   "cell_type": "markdown",
   "metadata": {},
   "source": [
    "# Linear Regression"
   ]
  },
  {
   "cell_type": "code",
   "execution_count": 165,
   "metadata": {
    "collapsed": true
   },
   "outputs": [],
   "source": [
    "from sklearn.linear_model import LinearRegression\n",
    "X_train = X_fit\n",
    "Y_train = y"
   ]
  },
  {
   "cell_type": "code",
   "execution_count": 166,
   "metadata": {},
   "outputs": [
    {
     "data": {
      "text/plain": [
       "LinearRegression(copy_X=True, fit_intercept=True, n_jobs=1, normalize=False)"
      ]
     },
     "execution_count": 166,
     "metadata": {},
     "output_type": "execute_result"
    }
   ],
   "source": [
    "linreg = LinearRegression()\n",
    "linreg.fit(X_train, Y_train)"
   ]
  },
  {
   "cell_type": "code",
   "execution_count": 167,
   "metadata": {
    "collapsed": true
   },
   "outputs": [],
   "source": [
    "X_train , X_test, Y_train, Y_test = train_test_split(\n",
    "        X_fit,\n",
    "        y,\n",
    "        test_size=0.20,\n",
    "        random_state=123)"
   ]
  },
  {
   "cell_type": "code",
   "execution_count": 168,
   "metadata": {
    "collapsed": true
   },
   "outputs": [],
   "source": [
    "y_pred = linreg.predict(X_test)"
   ]
  },
  {
   "cell_type": "code",
   "execution_count": 169,
   "metadata": {},
   "outputs": [
    {
     "data": {
      "text/plain": [
       "897.25106428509594"
      ]
     },
     "execution_count": 169,
     "metadata": {},
     "output_type": "execute_result"
    }
   ],
   "source": [
    "from sklearn import metrics\n",
    "rmse = np.sqrt(metrics.mean_squared_error(Y_test, y_pred))\n",
    "rmse"
   ]
  },
  {
   "cell_type": "code",
   "execution_count": 170,
   "metadata": {},
   "outputs": [
    {
     "data": {
      "text/plain": [
       "0.66261245267714586"
      ]
     },
     "execution_count": 170,
     "metadata": {},
     "output_type": "execute_result"
    }
   ],
   "source": [
    " metrics.r2_score(Y_test, y_pred)"
   ]
  },
  {
   "cell_type": "markdown",
   "metadata": {},
   "source": [
    "# decission tree"
   ]
  },
  {
   "cell_type": "code",
   "execution_count": 171,
   "metadata": {},
   "outputs": [
    {
     "name": "stderr",
     "output_type": "stream",
     "text": [
      "C:\\ProgramData\\Anaconda3\\lib\\site-packages\\sklearn\\grid_search.py:42: DeprecationWarning: This module was deprecated in version 0.18 in favor of the model_selection module into which all the refactored classes and functions are moved. This module will be removed in 0.20.\n",
      "  DeprecationWarning)\n"
     ]
    }
   ],
   "source": [
    "from sklearn import metrics\n",
    "from sklearn.tree import DecisionTreeRegressor, export_graphviz, export \n",
    "from sklearn.grid_search import GridSearchCV"
   ]
  },
  {
   "cell_type": "code",
   "execution_count": 172,
   "metadata": {
    "collapsed": true
   },
   "outputs": [],
   "source": [
    "X_train = X_fit \n",
    "Y_train = y"
   ]
  },
  {
   "cell_type": "code",
   "execution_count": 173,
   "metadata": {},
   "outputs": [
    {
     "name": "stdout",
     "output_type": "stream",
     "text": [
      "depth: 1 R_squared: 0.239029934927\n",
      "depth: 2 R_squared: 0.469840674527\n",
      "depth: 3 R_squared: 0.553660490398\n",
      "depth: 4 R_squared: 0.602582572081\n",
      "depth: 5 R_squared: 0.627233636384\n",
      "depth: 6 R_squared: 0.644453409995\n",
      "depth: 7 R_squared: 0.65831876923\n",
      "depth: 8 R_squared: 0.68434415933\n",
      "depth: 9 R_squared: 0.711096088025\n",
      "depth: 10 R_squared: 0.743243689709\n",
      "depth: 11 R_squared: 0.771684109653\n",
      "depth: 12 R_squared: 0.807183099983\n",
      "depth: 13 R_squared: 0.832749453893\n",
      "depth: 14 R_squared: 0.853777557824\n",
      "depth: 15 R_squared: 0.876145869976\n",
      "depth: 16 R_squared: 0.891166819897\n",
      "depth: 17 R_squared: 0.906763757638\n",
      "depth: 18 R_squared: 0.92155885748\n",
      "depth: 19 R_squared: 0.932667625881\n"
     ]
    }
   ],
   "source": [
    "depth_list = list(range(1,20))\n",
    "for depth in depth_list:\n",
    "    dt_obj = DecisionTreeRegressor(max_depth=depth)\n",
    "    dt_obj.fit(X_train, Y_train)\n",
    "    print ('depth:', depth, 'R_squared:', metrics.r2_score(Y_test, dt_obj.predict(X_test)))"
   ]
  },
  {
   "cell_type": "code",
   "execution_count": 174,
   "metadata": {},
   "outputs": [
    {
     "data": {
      "text/plain": [
       "GridSearchCV(cv=10, error_score='raise',\n",
       "       estimator=DecisionTreeRegressor(criterion='mse', max_depth=None, max_features=None,\n",
       "           max_leaf_nodes=None, min_impurity_decrease=0.0,\n",
       "           min_impurity_split=None, min_samples_leaf=1,\n",
       "           min_samples_split=2, min_weight_fraction_leaf=0.0,\n",
       "           presort=False, random_state=None, splitter='best'),\n",
       "       fit_params={}, iid=True, n_jobs=1,\n",
       "       param_grid={'max_depth': array([ 3,  4,  5,  6,  7,  8,  9, 10, 11, 12, 13, 14, 15, 16, 17, 18, 19])},\n",
       "       pre_dispatch='2*n_jobs', refit=True, scoring=None, verbose=0)"
      ]
     },
     "execution_count": 174,
     "metadata": {},
     "output_type": "execute_result"
    }
   ],
   "source": [
    "param_grid = {'max_depth': np.arange(3,20)}\n",
    "tree = GridSearchCV(DecisionTreeRegressor(), param_grid, cv=10)\n",
    "tree.fit(X_train, Y_train)"
   ]
  },
  {
   "cell_type": "code",
   "execution_count": 175,
   "metadata": {},
   "outputs": [
    {
     "data": {
      "text/plain": [
       "{'max_depth': 5}"
      ]
     },
     "execution_count": 175,
     "metadata": {},
     "output_type": "execute_result"
    }
   ],
   "source": [
    "tree.best_params_"
   ]
  },
  {
   "cell_type": "code",
   "execution_count": 176,
   "metadata": {},
   "outputs": [
    {
     "data": {
      "text/plain": [
       "0.6028827424266291"
      ]
     },
     "execution_count": 176,
     "metadata": {},
     "output_type": "execute_result"
    }
   ],
   "source": [
    "tree.best_score_"
   ]
  },
  {
   "cell_type": "code",
   "execution_count": 183,
   "metadata": {},
   "outputs": [
    {
     "data": {
      "text/plain": [
       "DecisionTreeRegressor(criterion='mse', max_depth=6, max_features=None,\n",
       "           max_leaf_nodes=None, min_impurity_decrease=0.0,\n",
       "           min_impurity_split=None, min_samples_leaf=1,\n",
       "           min_samples_split=2, min_weight_fraction_leaf=0.0,\n",
       "           presort=False, random_state=None, splitter='best')"
      ]
     },
     "execution_count": 183,
     "metadata": {},
     "output_type": "execute_result"
    }
   ],
   "source": [
    "tree_final = DecisionTreeRegressor(max_depth=6)\n",
    "tree_final.fit(X_train, Y_train)"
   ]
  },
  {
   "cell_type": "code",
   "execution_count": 184,
   "metadata": {
    "collapsed": true
   },
   "outputs": [],
   "source": [
    "tree_test_pred = pd.DataFrame({'actual': Y_test, 'predicted': tree_final.predict(X_test)})"
   ]
  },
  {
   "cell_type": "code",
   "execution_count": 185,
   "metadata": {},
   "outputs": [
    {
     "data": {
      "text/plain": [
       "0.64445340999496414"
      ]
     },
     "execution_count": 185,
     "metadata": {},
     "output_type": "execute_result"
    }
   ],
   "source": [
    "metrics.r2_score(Y_test, tree_test_pred.predicted)"
   ]
  },
  {
   "cell_type": "markdown",
   "metadata": {},
   "source": [
    "# Random forest"
   ]
  },
  {
   "cell_type": "code",
   "execution_count": 186,
   "metadata": {
    "collapsed": true
   },
   "outputs": [],
   "source": [
    "from sklearn.ensemble import RandomForestRegressor\n",
    "X_train = X_fit\n",
    "Y_train = y"
   ]
  },
  {
   "cell_type": "code",
   "execution_count": 187,
   "metadata": {},
   "outputs": [
    {
     "name": "stdout",
     "output_type": "stream",
     "text": [
      "depth: 1 R_Squared: 0.241301931977\n",
      "depth: 2 R_Squared: 0.473214186121\n",
      "depth: 3 R_Squared: 0.557915566329\n",
      "depth: 4 R_Squared: 0.610811355428\n",
      "depth: 5 R_Squared: 0.632445728252\n",
      "depth: 6 R_Squared: 0.652665962612\n",
      "depth: 7 R_Squared: 0.676339719889\n",
      "depth: 8 R_Squared: 0.690042678722\n",
      "depth: 9 R_Squared: 0.730209780739\n",
      "depth: 10 R_Squared: 0.761517951135\n",
      "depth: 11 R_Squared: 0.781488979977\n",
      "depth: 12 R_Squared: 0.811321668614\n",
      "depth: 13 R_Squared: 0.829673471401\n",
      "depth: 14 R_Squared: 0.854150853987\n",
      "depth: 15 R_Squared: 0.864082628375\n",
      "depth: 16 R_Squared: 0.878214116602\n",
      "depth: 17 R_Squared: 0.885517604117\n",
      "depth: 18 R_Squared: 0.89512666226\n",
      "depth: 19 R_Squared: 0.904623320447\n"
     ]
    }
   ],
   "source": [
    "depth_list = list(range(1,20))\n",
    "for depth in depth_list:\n",
    "    dt_obj = RandomForestRegressor(max_depth=depth)\n",
    "    dt_obj.fit(X_train, Y_train)\n",
    "    print ('depth:', depth, 'R_Squared:', metrics.r2_score(Y_test, dt_obj.predict(X_test)))"
   ]
  },
  {
   "cell_type": "code",
   "execution_count": 188,
   "metadata": {
    "collapsed": true
   },
   "outputs": [],
   "source": [
    "from sklearn.grid_search import GridSearchCV\n",
    "radm_reg = GridSearchCV(estimator=RandomForestRegressor(),\n",
    "                        param_grid =param_grid,\n",
    "                        cv=5,\n",
    "                  verbose=True, n_jobs=-1)"
   ]
  },
  {
   "cell_type": "code",
   "execution_count": 189,
   "metadata": {},
   "outputs": [
    {
     "data": {
      "text/plain": [
       "{'cv': 5,\n",
       " 'error_score': 'raise',\n",
       " 'estimator': RandomForestRegressor(bootstrap=True, criterion='mse', max_depth=None,\n",
       "            max_features='auto', max_leaf_nodes=None,\n",
       "            min_impurity_decrease=0.0, min_impurity_split=None,\n",
       "            min_samples_leaf=1, min_samples_split=2,\n",
       "            min_weight_fraction_leaf=0.0, n_estimators=10, n_jobs=1,\n",
       "            oob_score=False, random_state=None, verbose=0, warm_start=False),\n",
       " 'estimator__bootstrap': True,\n",
       " 'estimator__criterion': 'mse',\n",
       " 'estimator__max_depth': None,\n",
       " 'estimator__max_features': 'auto',\n",
       " 'estimator__max_leaf_nodes': None,\n",
       " 'estimator__min_impurity_decrease': 0.0,\n",
       " 'estimator__min_impurity_split': None,\n",
       " 'estimator__min_samples_leaf': 1,\n",
       " 'estimator__min_samples_split': 2,\n",
       " 'estimator__min_weight_fraction_leaf': 0.0,\n",
       " 'estimator__n_estimators': 10,\n",
       " 'estimator__n_jobs': 1,\n",
       " 'estimator__oob_score': False,\n",
       " 'estimator__random_state': None,\n",
       " 'estimator__verbose': 0,\n",
       " 'estimator__warm_start': False,\n",
       " 'fit_params': {},\n",
       " 'iid': True,\n",
       " 'n_jobs': -1,\n",
       " 'param_grid': {'max_depth': array([ 3,  4,  5,  6,  7,  8,  9, 10, 11, 12, 13, 14, 15, 16, 17, 18, 19])},\n",
       " 'pre_dispatch': '2*n_jobs',\n",
       " 'refit': True,\n",
       " 'scoring': None,\n",
       " 'verbose': True}"
      ]
     },
     "execution_count": 189,
     "metadata": {},
     "output_type": "execute_result"
    }
   ],
   "source": [
    "radm_reg.get_params()"
   ]
  },
  {
   "cell_type": "code",
   "execution_count": 190,
   "metadata": {},
   "outputs": [
    {
     "data": {
      "text/plain": [
       "RandomForestRegressor(bootstrap=True, criterion='mse', max_depth=None,\n",
       "           max_features='auto', max_leaf_nodes=None,\n",
       "           min_impurity_decrease=0.0, min_impurity_split=None,\n",
       "           min_samples_leaf=1, min_samples_split=2,\n",
       "           min_weight_fraction_leaf=0.0, n_estimators=100, n_jobs=1,\n",
       "           oob_score=True, random_state=None, verbose=0, warm_start=False)"
      ]
     },
     "execution_count": 190,
     "metadata": {},
     "output_type": "execute_result"
    }
   ],
   "source": [
    "radm_reg = RandomForestRegressor(oob_score=True,n_estimators=100)\n",
    "radm_reg.fit( X_train, Y_train )"
   ]
  },
  {
   "cell_type": "code",
   "execution_count": 191,
   "metadata": {
    "collapsed": true
   },
   "outputs": [],
   "source": [
    "radm_test_pred = pd.DataFrame( { 'actual':  Y_test,\n",
    "                            'predicted': radm_reg.predict( X_test ) } )"
   ]
  },
  {
   "cell_type": "code",
   "execution_count": 192,
   "metadata": {},
   "outputs": [
    {
     "data": {
      "text/plain": [
       "0.9425496398052452"
      ]
     },
     "execution_count": 192,
     "metadata": {},
     "output_type": "execute_result"
    }
   ],
   "source": [
    "metrics.r2_score( radm_test_pred.actual, radm_test_pred.predicted )"
   ]
  },
  {
   "cell_type": "markdown",
   "metadata": {},
   "source": [
    "# Bagging"
   ]
  },
  {
   "cell_type": "code",
   "execution_count": 193,
   "metadata": {
    "collapsed": true
   },
   "outputs": [],
   "source": [
    "from sklearn.ensemble import BaggingRegressor\n",
    "from sklearn import metrics"
   ]
  },
  {
   "cell_type": "code",
   "execution_count": 195,
   "metadata": {
    "collapsed": true
   },
   "outputs": [],
   "source": [
    "param_bag = {'n_estimators': list(range(100, 801, 100)),\n",
    "             }"
   ]
  },
  {
   "cell_type": "code",
   "execution_count": 196,
   "metadata": {},
   "outputs": [],
   "source": [
    "from sklearn.grid_search import GridSearchCV\n",
    "bag_reg = GridSearchCV(estimator=BaggingRegressor(),\n",
    "                  param_grid=param_bag,\n",
    "                  cv=5,\n",
    "                  verbose=True, n_jobs=-1)"
   ]
  },
  {
   "cell_type": "code",
   "execution_count": 198,
   "metadata": {},
   "outputs": [
    {
     "data": {
      "text/plain": [
       "{'cv': 5,\n",
       " 'error_score': 'raise',\n",
       " 'estimator': BaggingRegressor(base_estimator=None, bootstrap=True,\n",
       "          bootstrap_features=False, max_features=1.0, max_samples=1.0,\n",
       "          n_estimators=10, n_jobs=1, oob_score=False, random_state=None,\n",
       "          verbose=0, warm_start=False),\n",
       " 'estimator__base_estimator': None,\n",
       " 'estimator__bootstrap': True,\n",
       " 'estimator__bootstrap_features': False,\n",
       " 'estimator__max_features': 1.0,\n",
       " 'estimator__max_samples': 1.0,\n",
       " 'estimator__n_estimators': 10,\n",
       " 'estimator__n_jobs': 1,\n",
       " 'estimator__oob_score': False,\n",
       " 'estimator__random_state': None,\n",
       " 'estimator__verbose': 0,\n",
       " 'estimator__warm_start': False,\n",
       " 'fit_params': {},\n",
       " 'iid': True,\n",
       " 'n_jobs': -1,\n",
       " 'param_grid': {'n_estimators': [100, 200, 300, 400, 500, 600, 700, 800]},\n",
       " 'pre_dispatch': '2*n_jobs',\n",
       " 'refit': True,\n",
       " 'scoring': None,\n",
       " 'verbose': True}"
      ]
     },
     "execution_count": 198,
     "metadata": {},
     "output_type": "execute_result"
    }
   ],
   "source": [
    "bag_reg.get_params()"
   ]
  },
  {
   "cell_type": "code",
   "execution_count": 199,
   "metadata": {
    "collapsed": true
   },
   "outputs": [],
   "source": [
    "X_train = X_fit\n",
    "Y_train = y"
   ]
  },
  {
   "cell_type": "code",
   "execution_count": null,
   "metadata": {},
   "outputs": [
    {
     "name": "stdout",
     "output_type": "stream",
     "text": [
      "Fitting 5 folds for each of 8 candidates, totalling 40 fits\n"
     ]
    }
   ],
   "source": [
    "bag_reg.fit(X_train, Y_train)"
   ]
  },
  {
   "cell_type": "code",
   "execution_count": null,
   "metadata": {
    "collapsed": true
   },
   "outputs": [],
   "source": [
    "bag_reg.best_params_"
   ]
  },
  {
   "cell_type": "code",
   "execution_count": null,
   "metadata": {
    "collapsed": true
   },
   "outputs": [],
   "source": [
    "bagregm = BaggingRegressor(oob_score=True, n_estimators=400)\n",
    "bagregm.fit(X_train, Y_train)"
   ]
  },
  {
   "cell_type": "code",
   "execution_count": null,
   "metadata": {
    "collapsed": true
   },
   "outputs": [],
   "source": [
    "y_pred = pd.DataFrame( { 'actual':  Y_test,\n",
    "                            'predicted': bagreg.predict( X_test) } )"
   ]
  },
  {
   "cell_type": "code",
   "execution_count": null,
   "metadata": {
    "collapsed": true
   },
   "outputs": [],
   "source": [
    "bagreg.estimators_features_"
   ]
  },
  {
   "cell_type": "code",
   "execution_count": null,
   "metadata": {
    "collapsed": true
   },
   "outputs": [],
   "source": [
    "metrics.r2_score(y_pred.actual, y_pred.predicted)"
   ]
  },
  {
   "cell_type": "markdown",
   "metadata": {},
   "source": [
    "# Ada boost"
   ]
  },
  {
   "cell_type": "code",
   "execution_count": null,
   "metadata": {
    "collapsed": true
   },
   "outputs": [],
   "source": [
    "from sklearn.ensemble import AdaBoostRegressor, GradientBoostingRegressor"
   ]
  },
  {
   "cell_type": "code",
   "execution_count": null,
   "metadata": {
    "collapsed": true
   },
   "outputs": [],
   "source": [
    "paragrid_ada = {'n_estimators': [100, 200, 400, 600, 800],\n",
    "               'learning_rate': [10**x for x in range(-3, 3)]}"
   ]
  },
  {
   "cell_type": "code",
   "execution_count": null,
   "metadata": {
    "collapsed": true
   },
   "outputs": [],
   "source": [
    "from sklearn.grid_search import GridSearchCV\n",
    "ada = GridSearchCV(estimator=AdaBoostRegressor(),\n",
    "                  param_grid=paragrid_ada,\n",
    "                  cv=5,\n",
    "                  verbose=True, n_jobs=-1)"
   ]
  },
  {
   "cell_type": "code",
   "execution_count": null,
   "metadata": {
    "collapsed": true
   },
   "outputs": [],
   "source": [
    "X_train = X_fit\n",
    "Y_train = y"
   ]
  },
  {
   "cell_type": "code",
   "execution_count": null,
   "metadata": {
    "collapsed": true
   },
   "outputs": [],
   "source": [
    "ada.fit(X_train, Y_train)"
   ]
  },
  {
   "cell_type": "code",
   "execution_count": null,
   "metadata": {
    "collapsed": true
   },
   "outputs": [],
   "source": [
    "ada.best_params_"
   ]
  },
  {
   "cell_type": "code",
   "execution_count": null,
   "metadata": {
    "collapsed": true
   },
   "outputs": [],
   "source": [
    "ada_clf = AdaBoostRegressor(learning_rate=1, n_estimators=600)"
   ]
  },
  {
   "cell_type": "code",
   "execution_count": null,
   "metadata": {
    "collapsed": true
   },
   "outputs": [],
   "source": [
    "ada_clf.fit(X_train, Y_train)"
   ]
  },
  {
   "cell_type": "code",
   "execution_count": null,
   "metadata": {
    "collapsed": true
   },
   "outputs": [],
   "source": [
    "ada_test_pred = pd.DataFrame({'actual': Y_test,\n",
    "                            'predicted': ada_clf.predict(X_test)})"
   ]
  },
  {
   "cell_type": "code",
   "execution_count": null,
   "metadata": {
    "collapsed": true
   },
   "outputs": [],
   "source": [
    "metrics.r2_score(ada_test_pred.actual, ada_test_pred.predicted)"
   ]
  }
 ],
 "metadata": {
  "kernelspec": {
   "display_name": "Python 3",
   "language": "python",
   "name": "python3"
  },
  "language_info": {
   "codemirror_mode": {
    "name": "ipython",
    "version": 3
   },
   "file_extension": ".py",
   "mimetype": "text/x-python",
   "name": "python",
   "nbconvert_exporter": "python",
   "pygments_lexer": "ipython3",
   "version": "3.6.3"
  }
 },
 "nbformat": 4,
 "nbformat_minor": 2
}
